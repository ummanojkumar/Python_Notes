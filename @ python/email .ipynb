{
 "cells": [
  {
   "cell_type": "code",
   "execution_count": 1,
   "metadata": {},
   "outputs": [
    {
     "name": "stdout",
     "output_type": "stream",
     "text": [
      "  ____________\n",
      "< Hello, Arjun >\n",
      "  ============\n",
      "                 \\\n",
      "                  \\\n",
      "                   \\\n",
      "                    \\          \n",
      "                     /- _  `-/  '\n",
      "                    (/\\/ \\ \\   /\\\n",
      "                    / /   | `    \\\n",
      "                    O O   ) /    |\n",
      "                    `-^--'`<     '\n",
      "                   (_.)  _  )   /\n",
      "                    `.___/`    /\n",
      "                      `-----' /\n",
      "         <----.     __ / __   \\\n",
      "         <----|====O)))==) \\) /====\n",
      "         <----'    `--' `.__,' \\\n",
      "                      |        |\n",
      "                       \\       /\n",
      "                 ______( (_  / \\______\n",
      "               ,'  ,-----'   |        \\\n",
      "               `--{__________)        \\/\n",
      "               \n",
      "                \n",
      "  ____\n",
      "< milk >\n",
      "  ====\n",
      "         \\\n",
      "          \\\n",
      "           \\\n",
      "            \\          \n",
      "                ____________ \n",
      "                |__________|\n",
      "               /           /\\\n",
      "              /           /  \\\n",
      "             /___________/___/|\n",
      "             |          |     |\n",
      "             |  ==\\ /== |     |\n",
      "             |   O   O  | \\ \\ |\n",
      "             |     <    |  \\ \\|\n",
      "            /|          |   \\ \\\n",
      "           / |  \\_____/ |   / /\n",
      "          / /|          |  / /|\n",
      "         /||\\|          | /||\\/\n",
      "             -------------|   \n",
      "                 | |    | | \n",
      "                <__/    \\__>\n",
      "                \n",
      "                \n",
      "  ______\n",
      "< dragon >\n",
      "  ======\n",
      "           \\\n",
      "            \\\n",
      "             \\\n",
      "              \\          \n",
      "                                    / \\\\  //\\\\\n",
      "                     |\\\\___/|      /   \\\\//  \\\\\\\\\n",
      "                     /0  0  \\\\__  /    //  | \\\\ \\\\    \n",
      "                    /     /  \\\\/_/    //   |  \\\\  \\\\  \n",
      "                    \\@_^_\\@'/   \\\\/_   //    |   \\\\   \\\\ \n",
      "                    //_^_/     \\\\/_ //     |    \\\\    \\\\\n",
      "                 ( //) |        \\\\///      |     \\\\     \\\\\n",
      "               ( / /) _|_ /   )  //       |      \\\\     _\\\\\n",
      "             ( // /) '/,_ _ _/  ( ; -.    |    _ _\\\\.-~        .-~~~^-.\n",
      "           (( / / )) ,-{        _      `-.|.-~-.           .~         `.\n",
      "          (( // / ))  '/\\\\      /                 ~-. _ .-~      .-~^-.  \\\\\n",
      "          (( /// ))      `.   {            }                   /      \\\\  \\\\\n",
      "           (( / ))     .----~-.\\\\        \\\\-'                 .~         \\\\  `. \\\\^-.\n",
      "                      ///.----..>        \\\\             _ -~             `.  ^-`  ^-_\n",
      "                        ///-._ _ _ _ _ _ _}^ - - - - ~                     ~-- ,.-~\n",
      "                                                                           /.-~\n",
      "                  \n",
      "                  \n",
      "  ______\n",
      "< cheese >\n",
      "  ======\n",
      "           \\\n",
      "            \\\n",
      "             \\\n",
      "              \\            \n",
      "                /     \\_/         |\n",
      "               |                 ||\n",
      "               |                 ||\n",
      "              |    ###\\  /###   | |\n",
      "              |     0  \\/  0    | |\n",
      "             /|                 | |\n",
      "            / |        <        |\\ \\\n",
      "           | /|                 | | |\n",
      "           | |     \\_______/   |  | |\n",
      "           | |                 | / /\n",
      "           /||                 /|||\n",
      "              ----------------|\n",
      "                   | |    | |\n",
      "                   ***    ***\n",
      "                  /___\\  /___\\\n",
      "                  \n",
      "                  \n"
     ]
    }
   ],
   "source": [
    "import cowsay\n",
    "cowsay.daemon(\"Hello, Arjun\")\n",
    "cowsay.milk(\"milk\")\n",
    "cowsay.dragon(\"dragon\")\n",
    "cowsay.cheese(\"cheese\")"
   ]
  },
  {
   "cell_type": "code",
   "execution_count": null,
   "metadata": {},
   "outputs": [],
   "source": [
    "pip install gmail"
   ]
  },
  {
   "cell_type": "code",
   "execution_count": null,
   "metadata": {},
   "outputs": [],
   "source": [
    "pip install secure-smtplib"
   ]
  },
  {
   "cell_type": "code",
   "execution_count": 3,
   "metadata": {},
   "outputs": [
    {
     "name": "stdout",
     "output_type": "stream",
     "text": [
      "Mail Sent\n"
     ]
    }
   ],
   "source": [
    "import smtplib\n",
    "from email.mime.multipart import MIMEMultipart\n",
    "from email.mime.text import MIMEText\n",
    "mail_content =\"hii manoj how are you\"\n",
    "#The mail addresses and password\n",
    "sender_address = 'bmsmand1@gmail.com'\n",
    "sender_pass = 'password'                #give your password\n",
    "receiver_address = 'ummanojkumar925@gmail.com'\n",
    "#Setup the MIME\n",
    "message = MIMEMultipart()\n",
    "message['From'] = sender_address\n",
    "message['To'] = receiver_address\n",
    "message['Subject'] = 'A test mail sent by Python. It has an attachment.'   #The subject line\n",
    "#The body and the attachments for the mail\n",
    "message.attach(MIMEText(mail_content, 'plain'))\n",
    "#Create SMTP session for sending the mail\n",
    "session = smtplib.SMTP('smtp.gmail.com', 587) #use gmail with port\n",
    "session.starttls() #enable security\n",
    "session.login(sender_address, sender_pass) #login with mail_id and password\n",
    "text = message.as_string()\n",
    "session.sendmail(sender_address, receiver_address, text)\n",
    "session.quit()\n",
    "print('Mail Sent')"
   ]
  },
  {
   "cell_type": "code",
   "execution_count": 14,
   "metadata": {},
   "outputs": [],
   "source": [
    "import pandas as pd \n",
    "import warnings\n",
    "warnings.filterwarnings(\"ignore\")"
   ]
  },
  {
   "cell_type": "code",
   "execution_count": 15,
   "metadata": {},
   "outputs": [
    {
     "data": {
      "text/html": [
       "<div>\n",
       "<style scoped>\n",
       "    .dataframe tbody tr th:only-of-type {\n",
       "        vertical-align: middle;\n",
       "    }\n",
       "\n",
       "    .dataframe tbody tr th {\n",
       "        vertical-align: top;\n",
       "    }\n",
       "\n",
       "    .dataframe thead th {\n",
       "        text-align: right;\n",
       "    }\n",
       "</style>\n",
       "<table border=\"1\" class=\"dataframe\">\n",
       "  <thead>\n",
       "    <tr style=\"text-align: right;\">\n",
       "      <th></th>\n",
       "      <th>a</th>\n",
       "      <th>b</th>\n",
       "      <th>c</th>\n",
       "    </tr>\n",
       "  </thead>\n",
       "  <tbody>\n",
       "    <tr>\n",
       "      <th>0</th>\n",
       "      <td>10</td>\n",
       "      <td>20</td>\n",
       "      <td>30</td>\n",
       "    </tr>\n",
       "    <tr>\n",
       "      <th>1</th>\n",
       "      <td>11</td>\n",
       "      <td>22</td>\n",
       "      <td>33</td>\n",
       "    </tr>\n",
       "    <tr>\n",
       "      <th>2</th>\n",
       "      <td>44</td>\n",
       "      <td>55</td>\n",
       "      <td>66</td>\n",
       "    </tr>\n",
       "  </tbody>\n",
       "</table>\n",
       "</div>"
      ],
      "text/plain": [
       "    a   b   c\n",
       "0  10  20  30\n",
       "1  11  22  33\n",
       "2  44  55  66"
      ]
     },
     "execution_count": 15,
     "metadata": {},
     "output_type": "execute_result"
    }
   ],
   "source": [
    "pd.read_csv(\"re.csv\",sep='[#|[,]')"
   ]
  },
  {
   "cell_type": "code",
   "execution_count": 1,
   "metadata": {},
   "outputs": [
    {
     "data": {
      "text/plain": [
       "'C:\\\\Users\\\\manoj\\\\@ python'"
      ]
     },
     "execution_count": 1,
     "metadata": {},
     "output_type": "execute_result"
    }
   ],
   "source": [
    "pwd"
   ]
  },
  {
   "cell_type": "code",
   "execution_count": null,
   "metadata": {},
   "outputs": [],
   "source": []
  }
 ],
 "metadata": {
  "kernelspec": {
   "display_name": "Python 3",
   "language": "python",
   "name": "python3"
  },
  "language_info": {
   "codemirror_mode": {
    "name": "ipython",
    "version": 3
   },
   "file_extension": ".py",
   "mimetype": "text/x-python",
   "name": "python",
   "nbconvert_exporter": "python",
   "pygments_lexer": "ipython3",
   "version": "3.7.4"
  }
 },
 "nbformat": 4,
 "nbformat_minor": 2
}
