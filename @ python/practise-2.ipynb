{
 "cells": [
  {
   "cell_type": "code",
   "execution_count": null,
   "metadata": {},
   "outputs": [],
   "source": [
    "a = \"sample\""
   ]
  },
  {
   "cell_type": "code",
   "execution_count": null,
   "metadata": {},
   "outputs": [],
   "source": [
    "a.index('p')"
   ]
  },
  {
   "cell_type": "code",
   "execution_count": null,
   "metadata": {},
   "outputs": [],
   "source": [
    "k = input(\"Please enter your character\") \n",
    "a[a.index(k):]+a[:a.index(k)]"
   ]
  },
  {
   "cell_type": "code",
   "execution_count": null,
   "metadata": {},
   "outputs": [],
   "source": [
    "s=\"abcdefghijklmnop\"\n",
    "w=2\n",
    "result=\n",
    "print(result)"
   ]
  },
  {
   "cell_type": "code",
   "execution_count": null,
   "metadata": {},
   "outputs": [],
   "source": [
    "pip install textwrap3"
   ]
  },
  {
   "cell_type": "code",
   "execution_count": null,
   "metadata": {},
   "outputs": [],
   "source": [
    "import textwrap\n"
   ]
  },
  {
   "cell_type": "code",
   "execution_count": null,
   "metadata": {},
   "outputs": [],
   "source": [
    "import textwrap\n",
    "s=\"abcdefghijklmnop\"\n",
    "w=2\n",
    "result=textwrap.wrap(s,w)\n",
    "print(result)"
   ]
  },
  {
   "cell_type": "code",
   "execution_count": null,
   "metadata": {},
   "outputs": [],
   "source": [
    "import math\n",
    "print(math.pi)"
   ]
  },
  {
   "cell_type": "code",
   "execution_count": null,
   "metadata": {},
   "outputs": [],
   "source": [
    "a=int(input())\n",
    "b=int(input())\n",
    "try:\n",
    "    x=a/b\n",
    "except (ZeroDivisionError,ValueError):\n",
    "    print(\"e\")\n",
    "    \n",
    "else:\n",
    "    print(x)\n",
    "print(\"end of program\")"
   ]
  },
  {
   "cell_type": "code",
   "execution_count": null,
   "metadata": {},
   "outputs": [],
   "source": [
    "class voter(Exception):\n",
    "    def display(self):\n",
    "        print('hi')\n",
    "try:\n",
    "    x=int(input())\n",
    "    if(x<18):\n",
    "        raise voter\n",
    "except voter:\n",
    "    print('age is less than 18')\n",
    "    \n",
    "else:\n",
    "    print('age is greater 18')\n",
    "y=voter()\n",
    "y.display()"
   ]
  },
  {
   "cell_type": "code",
   "execution_count": null,
   "metadata": {},
   "outputs": [],
   "source": [
    "def add(x,y):\n",
    "    print(x+y)"
   ]
  },
  {
   "cell_type": "code",
   "execution_count": null,
   "metadata": {},
   "outputs": [],
   "source": [
    "add(5,3)"
   ]
  },
  {
   "cell_type": "code",
   "execution_count": null,
   "metadata": {},
   "outputs": [],
   "source": [
    "add(5,10)"
   ]
  },
  {
   "cell_type": "code",
   "execution_count": null,
   "metadata": {},
   "outputs": [],
   "source": [
    "n=17\n",
    "for x in range(1,n+1):\n",
    "    print(x,oct(x).replace(\"0o\",\"\"),hex(x).replace(\"0x\",\"\").upper(),bin(x).replace(\"0b\",\"\"))"
   ]
  },
  {
   "cell_type": "code",
   "execution_count": null,
   "metadata": {},
   "outputs": [],
   "source": [
    "n=17\n",
    "oct(n).replace(\"0o\",\"\")\n"
   ]
  },
  {
   "cell_type": "code",
   "execution_count": null,
   "metadata": {},
   "outputs": [],
   "source": [
    "from IPython.display import Image"
   ]
  },
  {
   "cell_type": "code",
   "execution_count": null,
   "metadata": {},
   "outputs": [],
   "source": [
    "Image(url=\"data:image/jpeg;base64,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\",height=350,width=100)"
   ]
  },
  {
   "cell_type": "code",
   "execution_count": null,
   "metadata": {},
   "outputs": [],
   "source": [
    "Image(url=\"data:image/jpeg;base64,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\")"
   ]
  },
  {
   "cell_type": "code",
   "execution_count": null,
   "metadata": {},
   "outputs": [],
   "source": [
    "def print_formatted(number):\n",
    "\n",
    "    width = len(\"{0:b}\".format(number))\n",
    "\n",
    "    for i in range(1, number + 1):\n",
    "        print(\"{0:{w}d} {0:{w}o} {0:{w}X} {0:{w}b}\".format(i, w = width))\n",
    "\n",
    "if __name__ == '__main__':\n",
    "    n = int(input())\n",
    "    print_formatted(n)"
   ]
  },
  {
   "cell_type": "code",
   "execution_count": null,
   "metadata": {},
   "outputs": [],
   "source": [
    "number=17\n",
    "width = len(\"{0:b}\".format(number))\n",
    "print(width)"
   ]
  },
  {
   "cell_type": "code",
   "execution_count": null,
   "metadata": {},
   "outputs": [],
   "source": [
    "import re"
   ]
  },
  {
   "cell_type": "code",
   "execution_count": null,
   "metadata": {},
   "outputs": [],
   "source": [
    "txt=\"hii mr manojkk king kingdom kirf kiue\"\n",
    "f=re.findall(\"m+\",txt)\n",
    "print(f)\n",
    "if f:\n",
    "    print(\"it is correct\")\n",
    "else:\n",
    "    print(\"it is not ok\")"
   ]
  },
  {
   "cell_type": "code",
   "execution_count": null,
   "metadata": {},
   "outputs": [],
   "source": [
    "def solve(s):\n",
    "    d=s.title()\n",
    "    print(d)\n",
    "s=\"1 w 2 r 3g\"\n",
    "result=solve(s)"
   ]
  },
  {
   "cell_type": "code",
   "execution_count": null,
   "metadata": {},
   "outputs": [],
   "source": [
    "from itertools import product\n",
    "A=map(int,input().split())\n",
    "B=map(int,input().split())\n",
    "C=[list(A),list(B)]\n",
    "print(list(product(*C)),e)"
   ]
  },
  {
   "cell_type": "markdown",
   "metadata": {},
   "source": [
    "10\n",
    "2 3 4 5 6 8 7 6 5 18\n",
    "6\n",
    "6 55\n",
    "6 45\n",
    "6 55\n",
    "4 40\n",
    "18 60\n",
    "10 50"
   ]
  },
  {
   "cell_type": "code",
   "execution_count": null,
   "metadata": {},
   "outputs": [],
   "source": [
    "n=10\n",
    "size=[2,3,4,5,6,8,7,6,5,18]\n",
    "customers=6\n",
    "c1=[6,55]\n",
    "c2=[6,45]"
   ]
  },
  {
   "cell_type": "code",
   "execution_count": null,
   "metadata": {},
   "outputs": [],
   "source": [
    "from collections import Counter\n",
    "myList = [2,3,4,5,6,8,7,6,5,18]\n",
    "print(Counter(myList))\n",
    "print(Counter(myList).items())\n",
    "print(Counter(myList).keys())\n",
    "print(Counter(myList).values())"
   ]
  },
  {
   "cell_type": "code",
   "execution_count": null,
   "metadata": {},
   "outputs": [],
   "source": [
    "a=0\n",
    "b=1\n",
    "n=20\n",
    "print(a)\n",
    "print(b)\n",
    "for x in range(1,n):\n",
    "    c=a+b\n",
    "    a=b\n",
    "    b=c\n",
    "    print(c)"
   ]
  },
  {
   "cell_type": "code",
   "execution_count": null,
   "metadata": {},
   "outputs": [],
   "source": [
    "x=10\n",
    "shoie_size=[2,3,4,5,6,8,7,6,5,18]\n",
    "n=6\n",
    "l=[[6, 55], [6, 45], [6, 55], [4, 40], [18, 60], [10, 50]]\n",
    "\"\"\"for x in range(n):\n",
    "    s=map(int,input().split())\n",
    "    l.append(list(s))\"\"\"\n",
    "print(l)\n"
   ]
  },
  {
   "cell_type": "code",
   "execution_count": null,
   "metadata": {},
   "outputs": [],
   "source": [
    "count=0\n",
    "for x in shoie_size:\n",
    "    for y in l:\n",
    "        if x==y[0]:\n",
    "            shoie_size.remove(x)\n",
    "            count=count+1\n",
    "print(shoie_size)\n",
    "print(count)"
   ]
  },
  {
   "cell_type": "code",
   "execution_count": null,
   "metadata": {},
   "outputs": [],
   "source": [
    "from itertools import permutations\n",
    "s,p=map(str,input().split())\n",
    "p=int(p)\n",
    "b=list(permutations(s,p))\n",
    "b.sort()\n",
    "for x in b:\n",
    "    c=\"\".join(map(str,x))\n",
    "    print(c)"
   ]
  },
  {
   "cell_type": "code",
   "execution_count": null,
   "metadata": {},
   "outputs": [],
   "source": [
    "from itertools import combinations\n",
    "s,p=map(str,input().split())\n",
    "p=int(p)\n",
    "b=list(combinations(s,p))\n",
    "print(b)"
   ]
  },
  {
   "cell_type": "code",
   "execution_count": null,
   "metadata": {},
   "outputs": [],
   "source": [
    "a=4j\n",
    "b=6\n",
    "c=a+b\n",
    "print(c)"
   ]
  },
  {
   "cell_type": "code",
   "execution_count": null,
   "metadata": {},
   "outputs": [],
   "source": [
    "import cmath\n",
    "s=complex(input())\n",
    "print(cmath.polar(s))"
   ]
  },
  {
   "cell_type": "code",
   "execution_count": null,
   "metadata": {},
   "outputs": [],
   "source": [
    "from math import sin\n",
    "(math.radians(90))"
   ]
  },
  {
   "cell_type": "code",
   "execution_count": null,
   "metadata": {},
   "outputs": [],
   "source": [
    "import math"
   ]
  },
  {
   "cell_type": "code",
   "execution_count": null,
   "metadata": {},
   "outputs": [],
   "source": [
    "math.asin(math."
   ]
  },
  {
   "cell_type": "markdown",
   "metadata": {},
   "source": []
  },
  {
   "cell_type": "code",
   "execution_count": null,
   "metadata": {},
   "outputs": [],
   "source": [
    "print(math.degrees(math.asin(0.707)))"
   ]
  },
  {
   "cell_type": "code",
   "execution_count": null,
   "metadata": {},
   "outputs": [],
   "source": [
    "math.sqrt(5)"
   ]
  },
  {
   "cell_type": "code",
   "execution_count": null,
   "metadata": {},
   "outputs": [],
   "source": [
    "import math\n",
    "ab=int(input())\n",
    "bc=int(input())\n",
    "mc=math.sqrt((ab**2)+(bc**2))/2\n",
    "theta=math.degrees(math.asin(mc/bc))\n",
    "print(str(round(theta))+'°')"
   ]
  },
  {
   "cell_type": "code",
   "execution_count": null,
   "metadata": {},
   "outputs": [],
   "source": [
    "# Enter your code here. Read input from STDIN. Print output to STDOUT\n",
    "n,m=map(int,input().split())\n",
    "ln=list(map(int,input().split()))\n",
    "a=set(map(int,input().split()))\n",
    "b=set(map(int,input().split()))\n",
    "c=set(ln)\n",
    "d=c.intersection(a)\n",
    "e=c.intersection(b)\n",
    "f=len(d)\n",
    "g=len(e)\n",
    "print(f-g)"
   ]
  },
  {
   "cell_type": "code",
   "execution_count": null,
   "metadata": {},
   "outputs": [],
   "source": [
    "pip install calendra"
   ]
  },
  {
   "cell_type": "code",
   "execution_count": null,
   "metadata": {},
   "outputs": [],
   "source": [
    "import calendar"
   ]
  },
  {
   "cell_type": "code",
   "execution_count": null,
   "metadata": {},
   "outputs": [],
   "source": [
    "print(calendar.TextCalendar(firstweekday=6).formatyear(1999))"
   ]
  },
  {
   "cell_type": "markdown",
   "metadata": {},
   "source": [
    "## get day (input : A single line of input containing the space separated date , month and year, respectively, in  DD MM YYYY format"
   ]
  },
  {
   "cell_type": "code",
   "execution_count": null,
   "metadata": {},
   "outputs": [],
   "source": [
    "import calendar\n",
    "k = list(map(int,input().split()))\n",
    "m = calendar.weekday(k[2],k[1],k[0])\n",
    "w = ['MONDAY','TUESDAY','WEDNESDAY','THURSDAY','FRIDAY','SATURDAY','SUNDAY']\n",
    "print(w[m])"
   ]
  },
  {
   "cell_type": "code",
   "execution_count": null,
   "metadata": {},
   "outputs": [],
   "source": [
    "a=int(input())\n",
    "for x in range(a):\n",
    "    b=list(map(int,input().split()))\n",
    "    try:\n",
    "        b[0]/b[1]\n",
    "    except ValueError as f:\n",
    "        print(\"Error Code:\",f)"
   ]
  },
  {
   "cell_type": "markdown",
   "metadata": {},
   "source": [
    "N = int(raw_input())\n",
    "a = []\n",
    "for i in range(N):\n",
    "    a.append(raw_input().split())\n",
    "for j in range(len(a)):\n",
    "    try:\n",
    "        print int(a[j][0])//int(a[j][1])\n",
    "    except ZeroDivisionError as e:\n",
    "        print \"Error Code:\", e\n",
    "    except ValueError as f:\n",
    "        print \"Error Code:\", f"
   ]
  },
  {
   "cell_type": "code",
   "execution_count": null,
   "metadata": {},
   "outputs": [],
   "source": [
    "N = int(input())\n",
    "a = []\n",
    "for i in range(N):\n",
    "    a.append(input().split())\n",
    "for j in range(len(a)):\n",
    "    try:\n",
    "        print(int(a[j][0])//int(a[j][1]))\n",
    "    except ZeroDivisionError as e:\n",
    "        print(\"Error Code:\", e)\n",
    "    except ValueError as f:\n",
    "        print(\"Error Code:\", f)"
   ]
  },
  {
   "cell_type": "code",
   "execution_count": null,
   "metadata": {},
   "outputs": [],
   "source": [
    "try:\n",
    "    print(1/int(\"#\"))\n",
    "except ValueError as e:\n",
    "    print(\"value roor:\",e)"
   ]
  },
  {
   "cell_type": "code",
   "execution_count": null,
   "metadata": {},
   "outputs": [],
   "source": [
    "a=[1,2,3,4,5]\n",
    "a.remove(1)\n",
    "b=a\n",
    "print(b)"
   ]
  },
  {
   "cell_type": "code",
   "execution_count": null,
   "metadata": {},
   "outputs": [],
   "source": [
    "pip install faker"
   ]
  },
  {
   "cell_type": "code",
   "execution_count": null,
   "metadata": {},
   "outputs": [],
   "source": [
    "from faker import Faker\n",
    "fake=Faker()"
   ]
  },
  {
   "cell_type": "code",
   "execution_count": null,
   "metadata": {},
   "outputs": [],
   "source": [
    "print(fake.email())\n",
    "print(fake.country())\n",
    "print(fake.name())\n",
    "#print(fake.text())\n",
    "print(fake.url())"
   ]
  },
  {
   "cell_type": "code",
   "execution_count": null,
   "metadata": {},
   "outputs": [],
   "source": [
    "pip install pywhatkit"
   ]
  },
  {
   "cell_type": "code",
   "execution_count": 7,
   "metadata": {},
   "outputs": [
    {
     "name": "stdout",
     "output_type": "stream",
     "text": [
      "In 37 seconds web.whatsapp.com will open and after 20 seconds message will be delivered\n"
     ]
    }
   ],
   "source": [
    "import pywhatkit\n",
    "pywhatkit.sendwhatmsg(\"+917995855926\",\"hii i am automating message bot what could i help you\",9,31)"
   ]
  },
  {
   "cell_type": "code",
   "execution_count": 1,
   "metadata": {},
   "outputs": [],
   "source": [
    "import pandas as pd"
   ]
  },
  {
   "cell_type": "code",
   "execution_count": 5,
   "metadata": {},
   "outputs": [],
   "source": [
    "import numpy as np"
   ]
  },
  {
   "cell_type": "code",
   "execution_count": 66,
   "metadata": {},
   "outputs": [],
   "source": [
    "d={\"a\":[1,2,np.nan],\"b\":[13,np.nan,np.nan],\"c\":[5,6,7],\"d\":[6,7,9]}"
   ]
  },
  {
   "cell_type": "code",
   "execution_count": 67,
   "metadata": {},
   "outputs": [],
   "source": [
    "df=pd.DataFrame(d)"
   ]
  },
  {
   "cell_type": "code",
   "execution_count": 68,
   "metadata": {},
   "outputs": [
    {
     "data": {
      "text/html": [
       "<div>\n",
       "<style scoped>\n",
       "    .dataframe tbody tr th:only-of-type {\n",
       "        vertical-align: middle;\n",
       "    }\n",
       "\n",
       "    .dataframe tbody tr th {\n",
       "        vertical-align: top;\n",
       "    }\n",
       "\n",
       "    .dataframe thead th {\n",
       "        text-align: right;\n",
       "    }\n",
       "</style>\n",
       "<table border=\"1\" class=\"dataframe\">\n",
       "  <thead>\n",
       "    <tr style=\"text-align: right;\">\n",
       "      <th></th>\n",
       "      <th>a</th>\n",
       "      <th>b</th>\n",
       "      <th>c</th>\n",
       "      <th>d</th>\n",
       "    </tr>\n",
       "  </thead>\n",
       "  <tbody>\n",
       "    <tr>\n",
       "      <td>0</td>\n",
       "      <td>1.0</td>\n",
       "      <td>13.0</td>\n",
       "      <td>5</td>\n",
       "      <td>6</td>\n",
       "    </tr>\n",
       "    <tr>\n",
       "      <td>1</td>\n",
       "      <td>2.0</td>\n",
       "      <td>NaN</td>\n",
       "      <td>6</td>\n",
       "      <td>7</td>\n",
       "    </tr>\n",
       "    <tr>\n",
       "      <td>2</td>\n",
       "      <td>NaN</td>\n",
       "      <td>NaN</td>\n",
       "      <td>7</td>\n",
       "      <td>9</td>\n",
       "    </tr>\n",
       "  </tbody>\n",
       "</table>\n",
       "</div>"
      ],
      "text/plain": [
       "     a     b  c  d\n",
       "0  1.0  13.0  5  6\n",
       "1  2.0   NaN  6  7\n",
       "2  NaN   NaN  7  9"
      ]
     },
     "execution_count": 68,
     "metadata": {},
     "output_type": "execute_result"
    }
   ],
   "source": [
    "df"
   ]
  },
  {
   "cell_type": "code",
   "execution_count": 69,
   "metadata": {},
   "outputs": [
    {
     "data": {
      "text/html": [
       "<div>\n",
       "<style scoped>\n",
       "    .dataframe tbody tr th:only-of-type {\n",
       "        vertical-align: middle;\n",
       "    }\n",
       "\n",
       "    .dataframe tbody tr th {\n",
       "        vertical-align: top;\n",
       "    }\n",
       "\n",
       "    .dataframe thead th {\n",
       "        text-align: right;\n",
       "    }\n",
       "</style>\n",
       "<table border=\"1\" class=\"dataframe\">\n",
       "  <thead>\n",
       "    <tr style=\"text-align: right;\">\n",
       "      <th></th>\n",
       "      <th>a</th>\n",
       "      <th>b</th>\n",
       "      <th>c</th>\n",
       "      <th>d</th>\n",
       "    </tr>\n",
       "  </thead>\n",
       "  <tbody>\n",
       "    <tr>\n",
       "      <td>0</td>\n",
       "      <td>1.0</td>\n",
       "      <td>13.0</td>\n",
       "      <td>5</td>\n",
       "      <td>6</td>\n",
       "    </tr>\n",
       "    <tr>\n",
       "      <td>1</td>\n",
       "      <td>2.0</td>\n",
       "      <td>NaN</td>\n",
       "      <td>6</td>\n",
       "      <td>7</td>\n",
       "    </tr>\n",
       "    <tr>\n",
       "      <td>2</td>\n",
       "      <td>NaN</td>\n",
       "      <td>NaN</td>\n",
       "      <td>7</td>\n",
       "      <td>9</td>\n",
       "    </tr>\n",
       "  </tbody>\n",
       "</table>\n",
       "</div>"
      ],
      "text/plain": [
       "     a     b  c  d\n",
       "0  1.0  13.0  5  6\n",
       "1  2.0   NaN  6  7\n",
       "2  NaN   NaN  7  9"
      ]
     },
     "execution_count": 69,
     "metadata": {},
     "output_type": "execute_result"
    }
   ],
   "source": [
    "df.dropna(thresh=2)"
   ]
  },
  {
   "cell_type": "code",
   "execution_count": 70,
   "metadata": {},
   "outputs": [
    {
     "data": {
      "text/plain": [
       "0    1.0\n",
       "1    2.0\n",
       "2    1.5\n",
       "Name: a, dtype: float64"
      ]
     },
     "execution_count": 70,
     "metadata": {},
     "output_type": "execute_result"
    }
   ],
   "source": [
    "df[\"a\"].fillna(value=df[\"a\"].mean())"
   ]
  },
  {
   "cell_type": "code",
   "execution_count": 72,
   "metadata": {},
   "outputs": [
    {
     "data": {
      "text/html": [
       "<div>\n",
       "<style scoped>\n",
       "    .dataframe tbody tr th:only-of-type {\n",
       "        vertical-align: middle;\n",
       "    }\n",
       "\n",
       "    .dataframe tbody tr th {\n",
       "        vertical-align: top;\n",
       "    }\n",
       "\n",
       "    .dataframe thead th {\n",
       "        text-align: right;\n",
       "    }\n",
       "</style>\n",
       "<table border=\"1\" class=\"dataframe\">\n",
       "  <thead>\n",
       "    <tr style=\"text-align: right;\">\n",
       "      <th></th>\n",
       "      <th>a</th>\n",
       "      <th>b</th>\n",
       "      <th>c</th>\n",
       "      <th>d</th>\n",
       "    </tr>\n",
       "  </thead>\n",
       "  <tbody>\n",
       "    <tr>\n",
       "      <td>0</td>\n",
       "      <td>1.0</td>\n",
       "      <td>13.0</td>\n",
       "      <td>5</td>\n",
       "      <td>6</td>\n",
       "    </tr>\n",
       "    <tr>\n",
       "      <td>1</td>\n",
       "      <td>2.0</td>\n",
       "      <td>NaN</td>\n",
       "      <td>6</td>\n",
       "      <td>7</td>\n",
       "    </tr>\n",
       "    <tr>\n",
       "      <td>2</td>\n",
       "      <td>NaN</td>\n",
       "      <td>NaN</td>\n",
       "      <td>7</td>\n",
       "      <td>9</td>\n",
       "    </tr>\n",
       "  </tbody>\n",
       "</table>\n",
       "</div>"
      ],
      "text/plain": [
       "     a     b  c  d\n",
       "0  1.0  13.0  5  6\n",
       "1  2.0   NaN  6  7\n",
       "2  NaN   NaN  7  9"
      ]
     },
     "execution_count": 72,
     "metadata": {},
     "output_type": "execute_result"
    }
   ],
   "source": [
    "df"
   ]
  },
  {
   "cell_type": "code",
   "execution_count": 73,
   "metadata": {},
   "outputs": [
    {
     "data": {
      "text/plain": [
       "3"
      ]
     },
     "execution_count": 73,
     "metadata": {},
     "output_type": "execute_result"
    }
   ],
   "source": [
    "len(df)"
   ]
  },
  {
   "cell_type": "code",
   "execution_count": 78,
   "metadata": {},
   "outputs": [
    {
     "data": {
      "text/plain": [
       "2"
      ]
     },
     "execution_count": 78,
     "metadata": {},
     "output_type": "execute_result"
    }
   ],
   "source": []
  },
  {
   "cell_type": "code",
   "execution_count": null,
   "metadata": {},
   "outputs": [],
   "source": []
  },
  {
   "cell_type": "code",
   "execution_count": null,
   "metadata": {},
   "outputs": [],
   "source": []
  },
  {
   "cell_type": "code",
   "execution_count": 74,
   "metadata": {},
   "outputs": [
    {
     "data": {
      "text/plain": [
       "a    2\n",
       "b    1\n",
       "c    3\n",
       "d    3\n",
       "dtype: int64"
      ]
     },
     "execution_count": 74,
     "metadata": {},
     "output_type": "execute_result"
    }
   ],
   "source": [
    "df.count()"
   ]
  },
  {
   "cell_type": "code",
   "execution_count": 61,
   "metadata": {},
   "outputs": [],
   "source": [
    "meana=df[\"a\"].mean()\n",
    "meanb=df[\"b\"].mean()\n",
    "meanc=df[\"c\"].mean()"
   ]
  },
  {
   "cell_type": "code",
   "execution_count": 62,
   "metadata": {},
   "outputs": [],
   "source": [
    "df[\"a\"].fillna(value=meana,inplace=True)\n",
    "df[\"b\"].fillna(value=meanb,inplace=True)\n",
    "df[\"c\"].fillna(value=meanc,inplace=True)"
   ]
  },
  {
   "cell_type": "code",
   "execution_count": 63,
   "metadata": {},
   "outputs": [
    {
     "data": {
      "text/html": [
       "<div>\n",
       "<style scoped>\n",
       "    .dataframe tbody tr th:only-of-type {\n",
       "        vertical-align: middle;\n",
       "    }\n",
       "\n",
       "    .dataframe tbody tr th {\n",
       "        vertical-align: top;\n",
       "    }\n",
       "\n",
       "    .dataframe thead th {\n",
       "        text-align: right;\n",
       "    }\n",
       "</style>\n",
       "<table border=\"1\" class=\"dataframe\">\n",
       "  <thead>\n",
       "    <tr style=\"text-align: right;\">\n",
       "      <th></th>\n",
       "      <th>a</th>\n",
       "      <th>b</th>\n",
       "      <th>c</th>\n",
       "      <th>d</th>\n",
       "    </tr>\n",
       "  </thead>\n",
       "  <tbody>\n",
       "    <tr>\n",
       "      <td>0</td>\n",
       "      <td>1.0</td>\n",
       "      <td>13.0</td>\n",
       "      <td>5</td>\n",
       "      <td>6</td>\n",
       "    </tr>\n",
       "    <tr>\n",
       "      <td>1</td>\n",
       "      <td>2.0</td>\n",
       "      <td>13.0</td>\n",
       "      <td>6</td>\n",
       "      <td>7</td>\n",
       "    </tr>\n",
       "    <tr>\n",
       "      <td>2</td>\n",
       "      <td>1.5</td>\n",
       "      <td>13.0</td>\n",
       "      <td>7</td>\n",
       "      <td>9</td>\n",
       "    </tr>\n",
       "  </tbody>\n",
       "</table>\n",
       "</div>"
      ],
      "text/plain": [
       "     a     b  c  d\n",
       "0  1.0  13.0  5  6\n",
       "1  2.0  13.0  6  7\n",
       "2  1.5  13.0  7  9"
      ]
     },
     "execution_count": 63,
     "metadata": {},
     "output_type": "execute_result"
    }
   ],
   "source": [
    "df"
   ]
  },
  {
   "cell_type": "code",
   "execution_count": 81,
   "metadata": {},
   "outputs": [],
   "source": [
    "a={\"company\":[\"google\",\"google\",\"facebook\",\"facebook\",\"amazon\",\"amazon\"],\"person\":[\"manoj\",\"akhil\",\"arjun\",\"naresh\",\"teja\",\"dinesh\"],\"sales\":[500,100,140,240,222,123]}"
   ]
  },
  {
   "cell_type": "code",
   "execution_count": 104,
   "metadata": {},
   "outputs": [],
   "source": [
    "df=pd.DataFrame(a)"
   ]
  },
  {
   "cell_type": "code",
   "execution_count": 105,
   "metadata": {},
   "outputs": [
    {
     "data": {
      "text/html": [
       "<div>\n",
       "<style scoped>\n",
       "    .dataframe tbody tr th:only-of-type {\n",
       "        vertical-align: middle;\n",
       "    }\n",
       "\n",
       "    .dataframe tbody tr th {\n",
       "        vertical-align: top;\n",
       "    }\n",
       "\n",
       "    .dataframe thead th {\n",
       "        text-align: right;\n",
       "    }\n",
       "</style>\n",
       "<table border=\"1\" class=\"dataframe\">\n",
       "  <thead>\n",
       "    <tr style=\"text-align: right;\">\n",
       "      <th></th>\n",
       "      <th>a</th>\n",
       "      <th>b</th>\n",
       "      <th>key</th>\n",
       "    </tr>\n",
       "  </thead>\n",
       "  <tbody>\n",
       "    <tr>\n",
       "      <td>0</td>\n",
       "      <td>1</td>\n",
       "      <td>6</td>\n",
       "      <td>11</td>\n",
       "    </tr>\n",
       "    <tr>\n",
       "      <td>1</td>\n",
       "      <td>2</td>\n",
       "      <td>7</td>\n",
       "      <td>22</td>\n",
       "    </tr>\n",
       "    <tr>\n",
       "      <td>2</td>\n",
       "      <td>3</td>\n",
       "      <td>8</td>\n",
       "      <td>33</td>\n",
       "    </tr>\n",
       "    <tr>\n",
       "      <td>3</td>\n",
       "      <td>4</td>\n",
       "      <td>9</td>\n",
       "      <td>44</td>\n",
       "    </tr>\n",
       "    <tr>\n",
       "      <td>4</td>\n",
       "      <td>5</td>\n",
       "      <td>0</td>\n",
       "      <td>55</td>\n",
       "    </tr>\n",
       "  </tbody>\n",
       "</table>\n",
       "</div>"
      ],
      "text/plain": [
       "   a  b  key\n",
       "0  1  6   11\n",
       "1  2  7   22\n",
       "2  3  8   33\n",
       "3  4  9   44\n",
       "4  5  0   55"
      ]
     },
     "execution_count": 105,
     "metadata": {},
     "output_type": "execute_result"
    }
   ],
   "source": [
    "df"
   ]
  },
  {
   "cell_type": "code",
   "execution_count": null,
   "metadata": {},
   "outputs": [],
   "source": []
  },
  {
   "cell_type": "code",
   "execution_count": 87,
   "metadata": {},
   "outputs": [],
   "source": [
    "get=df.groupby(\"company\")"
   ]
  },
  {
   "cell_type": "code",
   "execution_count": 89,
   "metadata": {},
   "outputs": [
    {
     "data": {
      "text/html": [
       "<div>\n",
       "<style scoped>\n",
       "    .dataframe tbody tr th:only-of-type {\n",
       "        vertical-align: middle;\n",
       "    }\n",
       "\n",
       "    .dataframe tbody tr th {\n",
       "        vertical-align: top;\n",
       "    }\n",
       "\n",
       "    .dataframe thead th {\n",
       "        text-align: right;\n",
       "    }\n",
       "</style>\n",
       "<table border=\"1\" class=\"dataframe\">\n",
       "  <thead>\n",
       "    <tr style=\"text-align: right;\">\n",
       "      <th></th>\n",
       "      <th>sales</th>\n",
       "    </tr>\n",
       "    <tr>\n",
       "      <th>company</th>\n",
       "      <th></th>\n",
       "    </tr>\n",
       "  </thead>\n",
       "  <tbody>\n",
       "    <tr>\n",
       "      <td>amazon</td>\n",
       "      <td>345</td>\n",
       "    </tr>\n",
       "    <tr>\n",
       "      <td>facebook</td>\n",
       "      <td>380</td>\n",
       "    </tr>\n",
       "    <tr>\n",
       "      <td>google</td>\n",
       "      <td>600</td>\n",
       "    </tr>\n",
       "  </tbody>\n",
       "</table>\n",
       "</div>"
      ],
      "text/plain": [
       "          sales\n",
       "company        \n",
       "amazon      345\n",
       "facebook    380\n",
       "google      600"
      ]
     },
     "execution_count": 89,
     "metadata": {},
     "output_type": "execute_result"
    }
   ],
   "source": [
    "get.sum()"
   ]
  },
  {
   "cell_type": "code",
   "execution_count": 90,
   "metadata": {},
   "outputs": [
    {
     "data": {
      "text/html": [
       "<div>\n",
       "<style scoped>\n",
       "    .dataframe tbody tr th:only-of-type {\n",
       "        vertical-align: middle;\n",
       "    }\n",
       "\n",
       "    .dataframe tbody tr th {\n",
       "        vertical-align: top;\n",
       "    }\n",
       "\n",
       "    .dataframe thead th {\n",
       "        text-align: right;\n",
       "    }\n",
       "</style>\n",
       "<table border=\"1\" class=\"dataframe\">\n",
       "  <thead>\n",
       "    <tr style=\"text-align: right;\">\n",
       "      <th></th>\n",
       "      <th>sales</th>\n",
       "    </tr>\n",
       "    <tr>\n",
       "      <th>company</th>\n",
       "      <th></th>\n",
       "    </tr>\n",
       "  </thead>\n",
       "  <tbody>\n",
       "    <tr>\n",
       "      <td>amazon</td>\n",
       "      <td>172.5</td>\n",
       "    </tr>\n",
       "    <tr>\n",
       "      <td>facebook</td>\n",
       "      <td>190.0</td>\n",
       "    </tr>\n",
       "    <tr>\n",
       "      <td>google</td>\n",
       "      <td>300.0</td>\n",
       "    </tr>\n",
       "  </tbody>\n",
       "</table>\n",
       "</div>"
      ],
      "text/plain": [
       "          sales\n",
       "company        \n",
       "amazon    172.5\n",
       "facebook  190.0\n",
       "google    300.0"
      ]
     },
     "execution_count": 90,
     "metadata": {},
     "output_type": "execute_result"
    }
   ],
   "source": [
    "get.mean()"
   ]
  },
  {
   "cell_type": "code",
   "execution_count": 91,
   "metadata": {},
   "outputs": [
    {
     "data": {
      "text/html": [
       "<div>\n",
       "<style scoped>\n",
       "    .dataframe tbody tr th:only-of-type {\n",
       "        vertical-align: middle;\n",
       "    }\n",
       "\n",
       "    .dataframe tbody tr th {\n",
       "        vertical-align: top;\n",
       "    }\n",
       "\n",
       "    .dataframe thead th {\n",
       "        text-align: right;\n",
       "    }\n",
       "</style>\n",
       "<table border=\"1\" class=\"dataframe\">\n",
       "  <thead>\n",
       "    <tr style=\"text-align: right;\">\n",
       "      <th></th>\n",
       "      <th>person</th>\n",
       "      <th>sales</th>\n",
       "    </tr>\n",
       "    <tr>\n",
       "      <th>company</th>\n",
       "      <th></th>\n",
       "      <th></th>\n",
       "    </tr>\n",
       "  </thead>\n",
       "  <tbody>\n",
       "    <tr>\n",
       "      <td>amazon</td>\n",
       "      <td>teja</td>\n",
       "      <td>222</td>\n",
       "    </tr>\n",
       "    <tr>\n",
       "      <td>facebook</td>\n",
       "      <td>naresh</td>\n",
       "      <td>240</td>\n",
       "    </tr>\n",
       "    <tr>\n",
       "      <td>google</td>\n",
       "      <td>manoj</td>\n",
       "      <td>500</td>\n",
       "    </tr>\n",
       "  </tbody>\n",
       "</table>\n",
       "</div>"
      ],
      "text/plain": [
       "          person  sales\n",
       "company                \n",
       "amazon      teja    222\n",
       "facebook  naresh    240\n",
       "google     manoj    500"
      ]
     },
     "execution_count": 91,
     "metadata": {},
     "output_type": "execute_result"
    }
   ],
   "source": [
    "get.max()"
   ]
  },
  {
   "cell_type": "code",
   "execution_count": 93,
   "metadata": {},
   "outputs": [
    {
     "data": {
      "text/html": [
       "<div>\n",
       "<style scoped>\n",
       "    .dataframe tbody tr th:only-of-type {\n",
       "        vertical-align: middle;\n",
       "    }\n",
       "\n",
       "    .dataframe tbody tr th {\n",
       "        vertical-align: top;\n",
       "    }\n",
       "\n",
       "    .dataframe thead th {\n",
       "        text-align: right;\n",
       "    }\n",
       "</style>\n",
       "<table border=\"1\" class=\"dataframe\">\n",
       "  <thead>\n",
       "    <tr style=\"text-align: right;\">\n",
       "      <th></th>\n",
       "      <th>person</th>\n",
       "      <th>sales</th>\n",
       "    </tr>\n",
       "    <tr>\n",
       "      <th>company</th>\n",
       "      <th></th>\n",
       "      <th></th>\n",
       "    </tr>\n",
       "  </thead>\n",
       "  <tbody>\n",
       "    <tr>\n",
       "      <td>amazon</td>\n",
       "      <td>dinesh</td>\n",
       "      <td>123</td>\n",
       "    </tr>\n",
       "    <tr>\n",
       "      <td>facebook</td>\n",
       "      <td>arjun</td>\n",
       "      <td>140</td>\n",
       "    </tr>\n",
       "    <tr>\n",
       "      <td>google</td>\n",
       "      <td>akhil</td>\n",
       "      <td>100</td>\n",
       "    </tr>\n",
       "  </tbody>\n",
       "</table>\n",
       "</div>"
      ],
      "text/plain": [
       "          person  sales\n",
       "company                \n",
       "amazon    dinesh    123\n",
       "facebook   arjun    140\n",
       "google     akhil    100"
      ]
     },
     "execution_count": 93,
     "metadata": {},
     "output_type": "execute_result"
    }
   ],
   "source": [
    "get.min()"
   ]
  },
  {
   "cell_type": "code",
   "execution_count": 98,
   "metadata": {},
   "outputs": [
    {
     "data": {
      "text/html": [
       "<div>\n",
       "<style scoped>\n",
       "    .dataframe tbody tr th:only-of-type {\n",
       "        vertical-align: middle;\n",
       "    }\n",
       "\n",
       "    .dataframe tbody tr th {\n",
       "        vertical-align: top;\n",
       "    }\n",
       "\n",
       "    .dataframe thead th {\n",
       "        text-align: right;\n",
       "    }\n",
       "</style>\n",
       "<table border=\"1\" class=\"dataframe\">\n",
       "  <thead>\n",
       "    <tr style=\"text-align: right;\">\n",
       "      <th>company</th>\n",
       "      <th>amazon</th>\n",
       "      <th>facebook</th>\n",
       "      <th>google</th>\n",
       "    </tr>\n",
       "  </thead>\n",
       "  <tbody>\n",
       "    <tr>\n",
       "      <td>person</td>\n",
       "      <td>teja</td>\n",
       "      <td>naresh</td>\n",
       "      <td>manoj</td>\n",
       "    </tr>\n",
       "    <tr>\n",
       "      <td>sales</td>\n",
       "      <td>222</td>\n",
       "      <td>240</td>\n",
       "      <td>500</td>\n",
       "    </tr>\n",
       "  </tbody>\n",
       "</table>\n",
       "</div>"
      ],
      "text/plain": [
       "company amazon facebook google\n",
       "person    teja   naresh  manoj\n",
       "sales      222      240    500"
      ]
     },
     "execution_count": 98,
     "metadata": {},
     "output_type": "execute_result"
    }
   ],
   "source": [
    "get.max().transpose()"
   ]
  },
  {
   "cell_type": "code",
   "execution_count": 109,
   "metadata": {},
   "outputs": [],
   "source": [
    "a={\n",
    "    \"a\":[1,2,3,4,5],\n",
    "    \"b\":[6,7,8,9,0],\n",
    "    \"key\":[11,22,33,44,55]\n",
    "}"
   ]
  },
  {
   "cell_type": "code",
   "execution_count": 110,
   "metadata": {},
   "outputs": [],
   "source": [
    "b={\n",
    "    \"c\":[16,16,45,12,22],\n",
    "    \"d\":[6,2,6,8,9],\n",
    "    \"key\":[11,22,33,44,55]\n",
    "}"
   ]
  },
  {
   "cell_type": "code",
   "execution_count": 111,
   "metadata": {},
   "outputs": [],
   "source": [
    "c={\n",
    "    \"e\":[99,0,33,44,55],\n",
    "    \"f\":[6,7,8,9,0],\n",
    "    \"key\":[11,22,33,44,55]\n",
    "}"
   ]
  },
  {
   "cell_type": "code",
   "execution_count": 112,
   "metadata": {},
   "outputs": [],
   "source": [
    "df1=pd.DataFrame(a)\n",
    "df2=pd.DataFrame(b)\n",
    "df3=pd.DataFrame(c)"
   ]
  },
  {
   "cell_type": "code",
   "execution_count": 116,
   "metadata": {},
   "outputs": [
    {
     "data": {
      "text/html": [
       "<div>\n",
       "<style scoped>\n",
       "    .dataframe tbody tr th:only-of-type {\n",
       "        vertical-align: middle;\n",
       "    }\n",
       "\n",
       "    .dataframe tbody tr th {\n",
       "        vertical-align: top;\n",
       "    }\n",
       "\n",
       "    .dataframe thead th {\n",
       "        text-align: right;\n",
       "    }\n",
       "</style>\n",
       "<table border=\"1\" class=\"dataframe\">\n",
       "  <thead>\n",
       "    <tr style=\"text-align: right;\">\n",
       "      <th></th>\n",
       "      <th>a</th>\n",
       "      <th>b</th>\n",
       "      <th>key</th>\n",
       "      <th>c</th>\n",
       "      <th>d</th>\n",
       "      <th>key</th>\n",
       "      <th>e</th>\n",
       "      <th>f</th>\n",
       "      <th>key</th>\n",
       "    </tr>\n",
       "  </thead>\n",
       "  <tbody>\n",
       "    <tr>\n",
       "      <td>0</td>\n",
       "      <td>1</td>\n",
       "      <td>6</td>\n",
       "      <td>11</td>\n",
       "      <td>16</td>\n",
       "      <td>6</td>\n",
       "      <td>11</td>\n",
       "      <td>99</td>\n",
       "      <td>6</td>\n",
       "      <td>11</td>\n",
       "    </tr>\n",
       "    <tr>\n",
       "      <td>1</td>\n",
       "      <td>2</td>\n",
       "      <td>7</td>\n",
       "      <td>22</td>\n",
       "      <td>16</td>\n",
       "      <td>2</td>\n",
       "      <td>22</td>\n",
       "      <td>0</td>\n",
       "      <td>7</td>\n",
       "      <td>22</td>\n",
       "    </tr>\n",
       "    <tr>\n",
       "      <td>2</td>\n",
       "      <td>3</td>\n",
       "      <td>8</td>\n",
       "      <td>33</td>\n",
       "      <td>45</td>\n",
       "      <td>6</td>\n",
       "      <td>33</td>\n",
       "      <td>33</td>\n",
       "      <td>8</td>\n",
       "      <td>33</td>\n",
       "    </tr>\n",
       "    <tr>\n",
       "      <td>3</td>\n",
       "      <td>4</td>\n",
       "      <td>9</td>\n",
       "      <td>44</td>\n",
       "      <td>12</td>\n",
       "      <td>8</td>\n",
       "      <td>44</td>\n",
       "      <td>44</td>\n",
       "      <td>9</td>\n",
       "      <td>44</td>\n",
       "    </tr>\n",
       "    <tr>\n",
       "      <td>4</td>\n",
       "      <td>5</td>\n",
       "      <td>0</td>\n",
       "      <td>55</td>\n",
       "      <td>22</td>\n",
       "      <td>9</td>\n",
       "      <td>55</td>\n",
       "      <td>55</td>\n",
       "      <td>0</td>\n",
       "      <td>55</td>\n",
       "    </tr>\n",
       "  </tbody>\n",
       "</table>\n",
       "</div>"
      ],
      "text/plain": [
       "   a  b  key   c  d  key   e  f  key\n",
       "0  1  6   11  16  6   11  99  6   11\n",
       "1  2  7   22  16  2   22   0  7   22\n",
       "2  3  8   33  45  6   33  33  8   33\n",
       "3  4  9   44  12  8   44  44  9   44\n",
       "4  5  0   55  22  9   55  55  0   55"
      ]
     },
     "execution_count": 116,
     "metadata": {},
     "output_type": "execute_result"
    }
   ],
   "source": [
    "pd.concat([df1,df2,df3],axis=1)"
   ]
  },
  {
   "cell_type": "code",
   "execution_count": 119,
   "metadata": {
    "scrolled": true
   },
   "outputs": [
    {
     "data": {
      "text/html": [
       "<div>\n",
       "<style scoped>\n",
       "    .dataframe tbody tr th:only-of-type {\n",
       "        vertical-align: middle;\n",
       "    }\n",
       "\n",
       "    .dataframe tbody tr th {\n",
       "        vertical-align: top;\n",
       "    }\n",
       "\n",
       "    .dataframe thead th {\n",
       "        text-align: right;\n",
       "    }\n",
       "</style>\n",
       "<table border=\"1\" class=\"dataframe\">\n",
       "  <thead>\n",
       "    <tr style=\"text-align: right;\">\n",
       "      <th></th>\n",
       "      <th>a</th>\n",
       "      <th>b</th>\n",
       "      <th>key</th>\n",
       "      <th>c</th>\n",
       "      <th>d</th>\n",
       "    </tr>\n",
       "  </thead>\n",
       "  <tbody>\n",
       "    <tr>\n",
       "      <td>0</td>\n",
       "      <td>1</td>\n",
       "      <td>6</td>\n",
       "      <td>11</td>\n",
       "      <td>16</td>\n",
       "      <td>6</td>\n",
       "    </tr>\n",
       "    <tr>\n",
       "      <td>1</td>\n",
       "      <td>2</td>\n",
       "      <td>7</td>\n",
       "      <td>22</td>\n",
       "      <td>16</td>\n",
       "      <td>2</td>\n",
       "    </tr>\n",
       "    <tr>\n",
       "      <td>2</td>\n",
       "      <td>3</td>\n",
       "      <td>8</td>\n",
       "      <td>33</td>\n",
       "      <td>45</td>\n",
       "      <td>6</td>\n",
       "    </tr>\n",
       "    <tr>\n",
       "      <td>3</td>\n",
       "      <td>4</td>\n",
       "      <td>9</td>\n",
       "      <td>44</td>\n",
       "      <td>12</td>\n",
       "      <td>8</td>\n",
       "    </tr>\n",
       "    <tr>\n",
       "      <td>4</td>\n",
       "      <td>5</td>\n",
       "      <td>0</td>\n",
       "      <td>55</td>\n",
       "      <td>22</td>\n",
       "      <td>9</td>\n",
       "    </tr>\n",
       "  </tbody>\n",
       "</table>\n",
       "</div>"
      ],
      "text/plain": [
       "   a  b  key   c  d\n",
       "0  1  6   11  16  6\n",
       "1  2  7   22  16  2\n",
       "2  3  8   33  45  6\n",
       "3  4  9   44  12  8\n",
       "4  5  0   55  22  9"
      ]
     },
     "execution_count": 119,
     "metadata": {},
     "output_type": "execute_result"
    }
   ],
   "source": [
    "pd.merge(df1,df2,on=\"key\")"
   ]
  },
  {
   "cell_type": "code",
   "execution_count": 120,
   "metadata": {},
   "outputs": [
    {
     "data": {
      "text/html": [
       "<div>\n",
       "<style scoped>\n",
       "    .dataframe tbody tr th:only-of-type {\n",
       "        vertical-align: middle;\n",
       "    }\n",
       "\n",
       "    .dataframe tbody tr th {\n",
       "        vertical-align: top;\n",
       "    }\n",
       "\n",
       "    .dataframe thead th {\n",
       "        text-align: right;\n",
       "    }\n",
       "</style>\n",
       "<table border=\"1\" class=\"dataframe\">\n",
       "  <thead>\n",
       "    <tr style=\"text-align: right;\">\n",
       "      <th></th>\n",
       "      <th>e</th>\n",
       "      <th>f</th>\n",
       "      <th>key</th>\n",
       "    </tr>\n",
       "  </thead>\n",
       "  <tbody>\n",
       "    <tr>\n",
       "      <td>0</td>\n",
       "      <td>99</td>\n",
       "      <td>6</td>\n",
       "      <td>11</td>\n",
       "    </tr>\n",
       "    <tr>\n",
       "      <td>1</td>\n",
       "      <td>0</td>\n",
       "      <td>7</td>\n",
       "      <td>22</td>\n",
       "    </tr>\n",
       "    <tr>\n",
       "      <td>2</td>\n",
       "      <td>33</td>\n",
       "      <td>8</td>\n",
       "      <td>33</td>\n",
       "    </tr>\n",
       "    <tr>\n",
       "      <td>3</td>\n",
       "      <td>44</td>\n",
       "      <td>9</td>\n",
       "      <td>44</td>\n",
       "    </tr>\n",
       "    <tr>\n",
       "      <td>4</td>\n",
       "      <td>55</td>\n",
       "      <td>0</td>\n",
       "      <td>55</td>\n",
       "    </tr>\n",
       "  </tbody>\n",
       "</table>\n",
       "</div>"
      ],
      "text/plain": [
       "    e  f  key\n",
       "0  99  6   11\n",
       "1   0  7   22\n",
       "2  33  8   33\n",
       "3  44  9   44\n",
       "4  55  0   55"
      ]
     },
     "execution_count": 120,
     "metadata": {},
     "output_type": "execute_result"
    }
   ],
   "source": [
    "df"
   ]
  },
  {
   "cell_type": "code",
   "execution_count": 123,
   "metadata": {},
   "outputs": [
    {
     "data": {
      "text/plain": [
       "Index(['e', 'f', 'key'], dtype='object')"
      ]
     },
     "execution_count": 123,
     "metadata": {},
     "output_type": "execute_result"
    }
   ],
   "source": [
    "df.columns"
   ]
  },
  {
   "cell_type": "code",
   "execution_count": null,
   "metadata": {},
   "outputs": [],
   "source": []
  }
 ],
 "metadata": {
  "kernelspec": {
   "display_name": "Python 3",
   "language": "python",
   "name": "python3"
  },
  "language_info": {
   "codemirror_mode": {
    "name": "ipython",
    "version": 3
   },
   "file_extension": ".py",
   "mimetype": "text/x-python",
   "name": "python",
   "nbconvert_exporter": "python",
   "pygments_lexer": "ipython3",
   "version": "3.7.4"
  }
 },
 "nbformat": 4,
 "nbformat_minor": 2
}
