{
 "cells": [
  {
   "cell_type": "code",
   "execution_count": null,
   "metadata": {},
   "outputs": [],
   "source": [
    "a=15"
   ]
  },
  {
   "cell_type": "code",
   "execution_count": null,
   "metadata": {
    "scrolled": true
   },
   "outputs": [],
   "source": [
    "print(a)"
   ]
  },
  {
   "cell_type": "code",
   "execution_count": null,
   "metadata": {},
   "outputs": [],
   "source": [
    "a.bit_length() #to find how many bit are there in a variable"
   ]
  },
  {
   "cell_type": "code",
   "execution_count": null,
   "metadata": {},
   "outputs": [],
   "source": [
    "dir(a)"
   ]
  },
  {
   "cell_type": "code",
   "execution_count": null,
   "metadata": {},
   "outputs": [],
   "source": [
    "a=\"manoj\"\n",
    "b=56\n",
    "c=\"ma34\"\n",
    "print(\"%s\\t\\t%c\"%(a,b))"
   ]
  },
  {
   "cell_type": "code",
   "execution_count": null,
   "metadata": {},
   "outputs": [],
   "source": [
    "a=input(\"\")\n",
    "if a.isdigit():\n",
    "    if int(a)<10:\n",
    "        print(\"next is \",int(a)+1)\n",
    "    elif int(a)==10:\n",
    "        print(\"next is INTERMEDIATE or DIPLOMA\")\n",
    "        print(\"................................choose one \")\n",
    "        b=input(\"\")\n",
    "        if b==\"intermediate\":\n",
    "            print(\"select mpc or Bipc or cec or mec\")\n",
    "            c=input(\"\")\n",
    "            if c==\"mpc\":\n",
    "                print(\"select engineering or degree\")\n",
    "                d=input()\n",
    "                if d==\"engineering\":\n",
    "                    print(\"select EEE or CIVIL or MECHANICAL or ECE or CSE\")\n",
    "                    e=input()\n",
    "                    if e==\"eee\" or e==\"civil\" or e==\"mechanical\" or e==\"cse\" or e==\"ece\":\n",
    "                        print(\"you dont got job\")\n",
    "        elif b==\"diploma\":\n",
    "            print(\"select DIPLOMA IN EEE or CIVIL or MECHANICAL or CSE or ECE\")\n",
    "elif a.isalpha():\n",
    "    if a==\"intermediate\":\n",
    "            print(\"select mpc or Bipc or cec or mec\")\n",
    "            c=input(\"\")\n",
    "            if c==\"mpc\":\n",
    "                print(\"select engineering or degree\")\n",
    "                d=input()\n",
    "                if d==\"engineering\":\n",
    "                    print(\"select EEE or CIVIL or MECHANICAL or ECE or CSE\")\n",
    "                    e=input()\n",
    "                    if e==\"eee\" or e==\"civil\" or e==\"mechanical\" or e==\"cse\" or e==\"ece\":\n",
    "                        print(\"you dont get a job\")"
   ]
  },
  {
   "cell_type": "code",
   "execution_count": null,
   "metadata": {},
   "outputs": [],
   "source": [
    "a=avg(2,3)\n",
    "a"
   ]
  },
  {
   "cell_type": "code",
   "execution_count": null,
   "metadata": {},
   "outputs": [],
   "source": [
    "a=[4,6,1,2,3,4,4,3,2,6,7,7,2,5]\n",
    "b=str(a)\n",
    "c=[]\n",
    "for x in b:\n",
    "    if x not in a:\n",
    "        c.append(x)\n",
    "print(str(c))"
   ]
  },
  {
   "cell_type": "code",
   "execution_count": null,
   "metadata": {},
   "outputs": [],
   "source": [
    "# Python 3 code to demonstrate \n",
    "# removing duplicated from list \n",
    "# using list comprehension + enumerate() \n",
    "\n",
    "# initializing list \n",
    "test_list =list(map(int,input().split()))\n",
    "print (\"The original list is : \" + str(test_list)) \n",
    "\n",
    "# using list comprehension + enumerate() \n",
    "# to remove duplicated \n",
    "# from list \n",
    "res = [i for n, i in enumerate(test_list) if i not in test_list[:n]] \n",
    "\n",
    "# printing list after removal \n",
    "print (\"The list after removing duplicates : \" + str(res)) \n"
   ]
  },
  {
   "cell_type": "code",
   "execution_count": null,
   "metadata": {},
   "outputs": [],
   "source": [
    "[i for i in range(4)]"
   ]
  },
  {
   "cell_type": "code",
   "execution_count": null,
   "metadata": {},
   "outputs": [],
   "source": [
    "[i for i in range(4) if i>=2]"
   ]
  },
  {
   "cell_type": "code",
   "execution_count": null,
   "metadata": {},
   "outputs": [],
   "source": [
    "\n",
    "[i for i in range(4) if i>=2 else i+2]"
   ]
  },
  {
   "cell_type": "code",
   "execution_count": null,
   "metadata": {},
   "outputs": [],
   "source": [
    "a = int(input()) \n",
    "[\"Positive\" for i in range(5) if i>0 else \"Negative\"]"
   ]
  },
  {
   "cell_type": "code",
   "execution_count": null,
   "metadata": {},
   "outputs": [],
   "source": [
    "a=[0,1,2,3,6]\n",
    "b=[5,6,7,8,1]\n",
    "c=[4,5,6,7,3]\n",
    "d=[6,6,7,8,9]\n",
    "print(a)\n",
    "print(b)\n",
    "print(c)\n",
    "print(d)"
   ]
  },
  {
   "cell_type": "code",
   "execution_count": null,
   "metadata": {},
   "outputs": [],
   "source": [
    "a=[[0,1,2,3,6],[5,6,7,8,1],[4,5,6,7,3],[6,6,7,8,9]]\n",
    "a[2:4][0:`,1:4]"
   ]
  },
  {
   "cell_type": "code",
   "execution_count": null,
   "metadata": {},
   "outputs": [],
   "source": [
    "a[2:4]"
   ]
  },
  {
   "cell_type": "code",
   "execution_count": null,
   "metadata": {},
   "outputs": [],
   "source": [
    "import numpy as np"
   ]
  },
  {
   "cell_type": "code",
   "execution_count": null,
   "metadata": {},
   "outputs": [],
   "source": [
    "pip install numpy"
   ]
  },
  {
   "cell_type": "code",
   "execution_count": null,
   "metadata": {},
   "outputs": [],
   "source": [
    "import numpy"
   ]
  },
  {
   "cell_type": "code",
   "execution_count": null,
   "metadata": {},
   "outputs": [],
   "source": [
    "pip install numpy==1.20.1"
   ]
  },
  {
   "cell_type": "code",
   "execution_count": null,
   "metadata": {},
   "outputs": [],
   "source": [
    "pip install pandas"
   ]
  },
  {
   "cell_type": "code",
   "execution_count": null,
   "metadata": {},
   "outputs": [],
   "source": [
    "import pandas as pa"
   ]
  },
  {
   "cell_type": "code",
   "execution_count": null,
   "metadata": {},
   "outputs": [],
   "source": [
    "a=list(input())\n",
    "g=[]\n",
    "b=int(input())\n",
    "d=len(a)\n",
    "for i in range(d):\n",
    "    g.append(a[b%d-1])\n",
    "    b+=1\n",
    "    print(int(g[i]),end=\"\")\n",
    "    "
   ]
  },
  {
   "cell_type": "code",
   "execution_count": null,
   "metadata": {},
   "outputs": [],
   "source": [
    "a=list(input())\n",
    "g=[]\n",
    "b=int(input())\n",
    "for i in range(len(a)):\n",
    "    g.append(a[b%len(a)-1])\n",
    "    b+=1\n",
    "    print(int(g[i]),end=\"\")\n",
    "\n"
   ]
  },
  {
   "cell_type": "code",
   "execution_count": null,
   "metadata": {},
   "outputs": [],
   "source": [
    "a=-10\n",
    "b=abs(a)\n",
    "b"
   ]
  },
  {
   "cell_type": "code",
   "execution_count": null,
   "metadata": {},
   "outputs": [],
   "source": [
    "a=10\n",
    "print(type(type(a)))"
   ]
  },
  {
   "cell_type": "code",
   "execution_count": null,
   "metadata": {},
   "outputs": [],
   "source": [
    "lst=[3,6,78,(\"a\",\"b\"),\"manoj\"]\n"
   ]
  },
  {
   "cell_type": "code",
   "execution_count": null,
   "metadata": {},
   "outputs": [],
   "source": [
    "lst[4]"
   ]
  },
  {
   "cell_type": "code",
   "execution_count": null,
   "metadata": {},
   "outputs": [],
   "source": [
    "lst[3][0]"
   ]
  },
  {
   "cell_type": "code",
   "execution_count": null,
   "metadata": {},
   "outputs": [],
   "source": [
    "dictionary{'manoj':ravi 'dinesh':keerthi}"
   ]
  },
  {
   "cell_type": "code",
   "execution_count": null,
   "metadata": {},
   "outputs": [],
   "source": []
  },
  {
   "cell_type": "code",
   "execution_count": null,
   "metadata": {},
   "outputs": [],
   "source": []
  },
  {
   "cell_type": "code",
   "execution_count": null,
   "metadata": {},
   "outputs": [],
   "source": [
    "dictionary[manoj]"
   ]
  },
  {
   "cell_type": "code",
   "execution_count": null,
   "metadata": {},
   "outputs": [],
   "source": [
    "tuple[566,7657,'we','tuple']"
   ]
  },
  {
   "cell_type": "code",
   "execution_count": null,
   "metadata": {},
   "outputs": [],
   "source": [
    "for x in range(40,128):\n",
    "    print(chr(x),end=\" \")"
   ]
  },
  {
   "cell_type": "code",
   "execution_count": null,
   "metadata": {},
   "outputs": [],
   "source": [
    "print(chr(65),chr(90),chr(97),chr(122))\n",
    "print(ord(\"a\"),ord(\"z\"),ord(\"m\"))"
   ]
  },
  {
   "cell_type": "code",
   "execution_count": null,
   "metadata": {},
   "outputs": [],
   "source": [
    "a=int(input(\"Enter the first number: \"))\n",
    "b=int(input(\"Enter the second number: \"))\n",
    "c=int(input(\"Enter the third number: \"))\n",
    "if a>b and a>c:\n",
    "    print(a,\"is larger\")\n",
    "elif b>c:\n",
    "    print(b,\"is larger\")\n",
    "else:\n",
    "    print(c,\"is largeer\")"
   ]
  },
  {
   "cell_type": "code",
   "execution_count": null,
   "metadata": {},
   "outputs": [],
   "source": [
    "a=input(\"Enter the first number:\")\n",
    "b=a[::-1]\n",
    "print(b)"
   ]
  },
  {
   "cell_type": "code",
   "execution_count": null,
   "metadata": {},
   "outputs": [],
   "source": [
    "import math\n",
    "a=int(input(\"Enter the number:\"))\n",
    "print(math.factorial(a))"
   ]
  },
  {
   "cell_type": "code",
   "execution_count": null,
   "metadata": {},
   "outputs": [],
   "source": [
    "a=int(input(\"Enter the number: \"))\n",
    "if a<0:\n",
    "    print(\"factorial doesnot exit\")\n",
    "if a>=0:\n",
    "    for x in range(1,a+1):\n",
    "        fact=fact*x\n",
    "    print(fact)"
   ]
  },
  {
   "cell_type": "code",
   "execution_count": null,
   "metadata": {},
   "outputs": [],
   "source": [
    "a=int(input(\"Enter the number:\"))\n",
    "for x in range(1,11):\n",
    "    print(a,\"*\",x,\"=\",a*x)"
   ]
  },
  {
   "cell_type": "code",
   "execution_count": null,
   "metadata": {},
   "outputs": [],
   "source": [
    "a=input(\"enter the word: \")\n",
    "b=a.split()\n",
    "c=set(b)\n",
    "for x in c:\n",
    "    d=a.count(x)\n",
    "    print(x,d)\n",
    "    "
   ]
  },
  {
   "cell_type": "code",
   "execution_count": null,
   "metadata": {},
   "outputs": [],
   "source": [
    "a={\n",
    "    \"tharun\":30,\n",
    "    \"dinesh\":30,\n",
    "    \"manoj\":10\n",
    "}\n",
    "a"
   ]
  },
  {
   "cell_type": "code",
   "execution_count": null,
   "metadata": {},
   "outputs": [],
   "source": [
    "a=int(input(\"Enter the first number: \"))\n",
    "b=int(input(\"Enter the second number: \"))\n",
    "for num in range(a,b):\n",
    "    if num>1:\n",
    "        for i in range(2,num):\n",
    "            if (num%i)==0:\n",
    "                \n",
    "                break\n",
    "        else:\n",
    "            print(num)"
   ]
  },
  {
   "cell_type": "code",
   "execution_count": null,
   "metadata": {},
   "outputs": [],
   "source": [
    "n = int(input())    \n",
    "for i in range(2,n): \n",
    "    for j in range(2,i): \n",
    "        if i%j==0: \n",
    "            break\n",
    "    else: \n",
    "        print(i)"
   ]
  },
  {
   "cell_type": "code",
   "execution_count": null,
   "metadata": {},
   "outputs": [],
   "source": [
    "n = int(input())  \n",
    "s = 1\n",
    "for i in range(1,n+1): \n",
    "    s = s*i\n",
    "print(s)"
   ]
  },
  {
   "cell_type": "code",
   "execution_count": null,
   "metadata": {},
   "outputs": [],
   "source": [
    "n = int(input())  \n",
    "s = 1\n",
    "for i in range(1,n+1): \n",
    "    s = s*i\n",
    "print(s)"
   ]
  },
  {
   "cell_type": "code",
   "execution_count": null,
   "metadata": {},
   "outputs": [],
   "source": [
    "d = int(input()) \n",
    "c = 0 \n",
    "for i in range(1,d+1): \n",
    "    c = c + i  \n",
    "print(c)"
   ]
  },
  {
   "cell_type": "code",
   "execution_count": null,
   "metadata": {},
   "outputs": [],
   "source": [
    "a = int(input(\"ENter a value\")) \n",
    "b = int(input(\"ENter b value\")) \n",
    "temp = a\n",
    "a = b \n",
    "b = temp  \n",
    "\n",
    "print(a) \n",
    "print(b)\n"
   ]
  },
  {
   "cell_type": "code",
   "execution_count": null,
   "metadata": {},
   "outputs": [],
   "source": [
    "import operator \n",
    "operator.add(6,7)"
   ]
  },
  {
   "cell_type": "code",
   "execution_count": null,
   "metadata": {},
   "outputs": [],
   "source": [
    "a = int(input()) \n",
    "rev = 0\n",
    "while a>0: \n",
    "    rem = a%10 \n",
    "    rev =  rev*10 + rem \n",
    "    a  = a//10 \n",
    "print(rev)"
   ]
  },
  {
   "cell_type": "code",
   "execution_count": null,
   "metadata": {},
   "outputs": [],
   "source": [
    "import pandas as pd"
   ]
  },
  {
   "cell_type": "code",
   "execution_count": null,
   "metadata": {},
   "outputs": [],
   "source": [
    " df = pd.read_excel(r\"C:\\Users\\manoj\\Desktop\\marks32.xlsx\")"
   ]
  },
  {
   "cell_type": "code",
   "execution_count": null,
   "metadata": {},
   "outputs": [],
   "source": [
    "df"
   ]
  },
  {
   "cell_type": "code",
   "execution_count": null,
   "metadata": {},
   "outputs": [],
   "source": [
    "a=open(r\"C:\\Users\\manoj\\Desktop\\marks32.xlsx\")\n",
    "b=a.read()\n",
    "print(b)"
   ]
  },
  {
   "cell_type": "code",
   "execution_count": null,
   "metadata": {},
   "outputs": [],
   "source": [
    "for x in range(2,2):\n",
    "    print(x)"
   ]
  },
  {
   "cell_type": "code",
   "execution_count": null,
   "metadata": {},
   "outputs": [],
   "source": [
    "for x in range(0,5): \n",
    "    if x%2==0: \n",
    "        print(\"even number are :\",x) \n",
    "    else: \n",
    "        print(\"odd numbers:\",x)"
   ]
  },
  {
   "cell_type": "code",
   "execution_count": null,
   "metadata": {},
   "outputs": [],
   "source": [
    "for x in range(0,6): \n",
    "    if x%2==0: \n",
    "        print(x)\n",
    "else: \n",
    "    print(\"odd numbers:\",x)"
   ]
  },
  {
   "cell_type": "code",
   "execution_count": null,
   "metadata": {},
   "outputs": [],
   "source": [
    "a=open(r\"C:\\Users\\manoj\\Desktop\\input.csv\")\n",
    "b=a.read()\n",
    "print(b)"
   ]
  },
  {
   "cell_type": "code",
   "execution_count": null,
   "metadata": {},
   "outputs": [],
   "source": [
    "a=\"hello good morning\"\n",
    "b=\"hi\"\n",
    "c=\"good morning\"\n",
    "d=\"aeiou\"\n",
    "for x in d:\n",
    "    for y in a:\n",
    "        if x==y:\n",
    "            e=a.replace(y,\"#\")\n",
    "print(e)\n"
   ]
  },
  {
   "cell_type": "code",
   "execution_count": null,
   "metadata": {},
   "outputs": [],
   "source": [
    "for x in d:\n",
    "    for y in a:\n",
    "        if x==y:\n",
    "            break\n",
    "        else:\n",
    "            f=a.replace(y,\"#\")\n",
    "print(f)"
   ]
  },
  {
   "cell_type": "code",
   "execution_count": null,
   "metadata": {},
   "outputs": [],
   "source": [
    "for x in a:\n",
    "    if x==\"a\" or x==\"e\" or x==\"i\" or x==\"o\" or x==\"u\":\n",
    "        b=a.replace(x,\"#\")\n",
    "        print(b)"
   ]
  },
  {
   "cell_type": "code",
   "execution_count": null,
   "metadata": {},
   "outputs": [],
   "source": [
    "a=\"manoj is good boy\"\n",
    "b=a.replace(\"good\",\"bad\")\n",
    "b"
   ]
  },
  {
   "cell_type": "code",
   "execution_count": null,
   "metadata": {},
   "outputs": [],
   "source": [
    "import package_deps\n",
    ">>> package = package_deps.find('somepackage')\n",
    ">>> print package.dependencies"
   ]
  },
  {
   "cell_type": "code",
   "execution_count": null,
   "metadata": {},
   "outputs": [],
   "source": [
    "pip install pipdeptree"
   ]
  },
  {
   "cell_type": "code",
   "execution_count": null,
   "metadata": {},
   "outputs": [],
   "source": []
  }
 ],
 "metadata": {
  "kernelspec": {
   "display_name": "Python 3",
   "language": "python",
   "name": "python3"
  },
  "language_info": {
   "codemirror_mode": {
    "name": "ipython",
    "version": 3
   },
   "file_extension": ".py",
   "mimetype": "text/x-python",
   "name": "python",
   "nbconvert_exporter": "python",
   "pygments_lexer": "ipython3",
   "version": "3.7.4"
  }
 },
 "nbformat": 4,
 "nbformat_minor": 2
}
