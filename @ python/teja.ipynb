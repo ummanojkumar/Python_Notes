{
 "cells": [
  {
   "cell_type": "code",
   "execution_count": 33,
   "metadata": {},
   "outputs": [],
   "source": [
    "import pandas as pd\n",
    "import numpy as np"
   ]
  },
  {
   "cell_type": "code",
   "execution_count": 50,
   "metadata": {},
   "outputs": [],
   "source": [
    "d={\n",
    "    0.40:0.53,\n",
    "    0.22:0.38,\n",
    "    0.35:0.32,\n",
    "    0.26:0.19,\n",
    "    0.08:0.41,\n",
    "    0.45:0.30\n",
    "}"
   ]
  },
  {
   "cell_type": "code",
   "execution_count": 51,
   "metadata": {},
   "outputs": [
    {
     "data": {
      "text/plain": [
       "[0.4, 0.22, 0.35, 0.26, 0.08, 0.45]"
      ]
     },
     "execution_count": 51,
     "metadata": {},
     "output_type": "execute_result"
    }
   ],
   "source": [
    "x=list(d.keys())\n",
    "x"
   ]
  },
  {
   "cell_type": "code",
   "execution_count": 52,
   "metadata": {},
   "outputs": [
    {
     "data": {
      "text/plain": [
       "[0.53, 0.38, 0.32, 0.19, 0.41, 0.3]"
      ]
     },
     "execution_count": 52,
     "metadata": {},
     "output_type": "execute_result"
    }
   ],
   "source": [
    "y=list(d.values())\n",
    "y"
   ]
  },
  {
   "cell_type": "code",
   "execution_count": 53,
   "metadata": {},
   "outputs": [
    {
     "name": "stdout",
     "output_type": "stream",
     "text": [
      "[0.0, 0.032, 0.003, 0.02, 0.102, 0.002, 0.032, 0.0, 0.017, 0.002, 0.02, 0.053, 0.003, 0.017, 0.0, 0.008, 0.073, 0.01, 0.02, 0.002, 0.008, 0.0, 0.032, 0.036, 0.102, 0.02, 0.073, 0.032, 0.0, 0.137, 0.002, 0.053, 0.01, 0.036, 0.137, 0.0]\n"
     ]
    }
   ],
   "source": [
    "k=[]\n",
    "for i in x:\n",
    "    for j in x:\n",
    "        s=(i-j)**2\n",
    "        k.append(round(s,3))\n",
    "print(k)"
   ]
  },
  {
   "cell_type": "code",
   "execution_count": 54,
   "metadata": {},
   "outputs": [
    {
     "name": "stdout",
     "output_type": "stream",
     "text": [
      "[0.0, 0.023, 0.044, 0.116, 0.014, 0.053, 0.023, 0.0, 0.004, 0.036, 0.001, 0.006, 0.044, 0.004, 0.0, 0.017, 0.008, 0.0, 0.116, 0.036, 0.017, 0.0, 0.048, 0.012, 0.014, 0.001, 0.008, 0.048, 0.0, 0.012, 0.053, 0.006, 0.0, 0.012, 0.012, 0.0]\n"
     ]
    }
   ],
   "source": [
    "b=[]\n",
    "for i in y:\n",
    "    for j in y:\n",
    "        c=(i-j)**2\n",
    "        b.append(round(c,3))\n",
    "print(b)"
   ]
  },
  {
   "cell_type": "code",
   "execution_count": 55,
   "metadata": {},
   "outputs": [],
   "source": [
    "import math"
   ]
  },
  {
   "cell_type": "code",
   "execution_count": 56,
   "metadata": {},
   "outputs": [
    {
     "name": "stdout",
     "output_type": "stream",
     "text": [
      "[0.0, 0.235, 0.217, 0.369, 0.341, 0.235, 0.235, 0.0, 0.145, 0.195, 0.145, 0.243, 0.217, 0.145, 0.0, 0.158, 0.285, 0.1, 0.369, 0.195, 0.158, 0.0, 0.283, 0.219, 0.341, 0.145, 0.285, 0.283, 0.0, 0.386, 0.235, 0.243, 0.1, 0.219, 0.386, 0.0]\n"
     ]
    }
   ],
   "source": [
    "ans=[]\n",
    "for h in range(len(b)):\n",
    "    l=math.sqrt((k[h])+(b[h]))\n",
    "    ans.append(round(l,3))\n",
    "print(ans)"
   ]
  },
  {
   "cell_type": "code",
   "execution_count": 59,
   "metadata": {},
   "outputs": [
    {
     "data": {
      "text/html": [
       "<div>\n",
       "<style scoped>\n",
       "    .dataframe tbody tr th:only-of-type {\n",
       "        vertical-align: middle;\n",
       "    }\n",
       "\n",
       "    .dataframe tbody tr th {\n",
       "        vertical-align: top;\n",
       "    }\n",
       "\n",
       "    .dataframe thead th {\n",
       "        text-align: right;\n",
       "    }\n",
       "</style>\n",
       "<table border=\"1\" class=\"dataframe\">\n",
       "  <thead>\n",
       "    <tr style=\"text-align: right;\">\n",
       "      <th></th>\n",
       "      <th>p1</th>\n",
       "      <th>p2</th>\n",
       "      <th>p3</th>\n",
       "      <th>p4</th>\n",
       "      <th>p5</th>\n",
       "      <th>p6</th>\n",
       "    </tr>\n",
       "  </thead>\n",
       "  <tbody>\n",
       "    <tr>\n",
       "      <th>p1</th>\n",
       "      <td>0.000</td>\n",
       "      <td>0.235</td>\n",
       "      <td>0.217</td>\n",
       "      <td>0.369</td>\n",
       "      <td>0.341</td>\n",
       "      <td>0.235</td>\n",
       "    </tr>\n",
       "    <tr>\n",
       "      <th>p2</th>\n",
       "      <td>0.235</td>\n",
       "      <td>0.000</td>\n",
       "      <td>0.145</td>\n",
       "      <td>0.195</td>\n",
       "      <td>0.145</td>\n",
       "      <td>0.243</td>\n",
       "    </tr>\n",
       "    <tr>\n",
       "      <th>p3</th>\n",
       "      <td>0.217</td>\n",
       "      <td>0.145</td>\n",
       "      <td>0.000</td>\n",
       "      <td>0.158</td>\n",
       "      <td>0.285</td>\n",
       "      <td>0.100</td>\n",
       "    </tr>\n",
       "    <tr>\n",
       "      <th>p4</th>\n",
       "      <td>0.369</td>\n",
       "      <td>0.195</td>\n",
       "      <td>0.158</td>\n",
       "      <td>0.000</td>\n",
       "      <td>0.283</td>\n",
       "      <td>0.219</td>\n",
       "    </tr>\n",
       "    <tr>\n",
       "      <th>p5</th>\n",
       "      <td>0.341</td>\n",
       "      <td>0.145</td>\n",
       "      <td>0.285</td>\n",
       "      <td>0.283</td>\n",
       "      <td>0.000</td>\n",
       "      <td>0.386</td>\n",
       "    </tr>\n",
       "    <tr>\n",
       "      <th>p6</th>\n",
       "      <td>0.235</td>\n",
       "      <td>0.243</td>\n",
       "      <td>0.100</td>\n",
       "      <td>0.219</td>\n",
       "      <td>0.386</td>\n",
       "      <td>0.000</td>\n",
       "    </tr>\n",
       "  </tbody>\n",
       "</table>\n",
       "</div>"
      ],
      "text/plain": [
       "       p1     p2     p3     p4     p5     p6\n",
       "p1  0.000  0.235  0.217  0.369  0.341  0.235\n",
       "p2  0.235  0.000  0.145  0.195  0.145  0.243\n",
       "p3  0.217  0.145  0.000  0.158  0.285  0.100\n",
       "p4  0.369  0.195  0.158  0.000  0.283  0.219\n",
       "p5  0.341  0.145  0.285  0.283  0.000  0.386\n",
       "p6  0.235  0.243  0.100  0.219  0.386  0.000"
      ]
     },
     "execution_count": 59,
     "metadata": {},
     "output_type": "execute_result"
    }
   ],
   "source": [
    "n=np.array(ans)\n",
    "o=n.reshape(6,6)\n",
    "df=pd.DataFrame(o,index=['p1','p2','p3','p4','p5','p6'],columns=['p1','p2','p3','p4','p5','p6'])\n",
    "df"
   ]
  },
  {
   "cell_type": "code",
   "execution_count": 68,
   "metadata": {},
   "outputs": [],
   "source": [
    "df.to_csv('teja.csv')"
   ]
  },
  {
   "cell_type": "code",
   "execution_count": 61,
   "metadata": {},
   "outputs": [],
   "source": [
    "import os"
   ]
  },
  {
   "cell_type": "code",
   "execution_count": 63,
   "metadata": {},
   "outputs": [
    {
     "data": {
      "text/plain": [
       "'C:\\\\Users\\\\manoj'"
      ]
     },
     "execution_count": 63,
     "metadata": {},
     "output_type": "execute_result"
    }
   ],
   "source": [
    "os.getcwd()"
   ]
  },
  {
   "cell_type": "code",
   "execution_count": 66,
   "metadata": {},
   "outputs": [],
   "source": [
    "os.chdir(r\"C:\\Users\\manoj\\Desktop\\jupyter\")"
   ]
  },
  {
   "cell_type": "code",
   "execution_count": 67,
   "metadata": {},
   "outputs": [
    {
     "data": {
      "text/plain": [
       "'C:\\\\Users\\\\manoj\\\\Desktop\\\\jupyter'"
      ]
     },
     "execution_count": 67,
     "metadata": {},
     "output_type": "execute_result"
    }
   ],
   "source": [
    "pwd"
   ]
  },
  {
   "cell_type": "code",
   "execution_count": 69,
   "metadata": {},
   "outputs": [
    {
     "data": {
      "text/plain": [
       "'C:\\\\Users\\\\manoj\\\\Desktop\\\\jupyter'"
      ]
     },
     "execution_count": 69,
     "metadata": {},
     "output_type": "execute_result"
    }
   ],
   "source": [
    "pwd"
   ]
  },
  {
   "cell_type": "code",
   "execution_count": null,
   "metadata": {},
   "outputs": [],
   "source": []
  }
 ],
 "metadata": {
  "kernelspec": {
   "display_name": "Python 3",
   "language": "python",
   "name": "python3"
  },
  "language_info": {
   "codemirror_mode": {
    "name": "ipython",
    "version": 3
   },
   "file_extension": ".py",
   "mimetype": "text/x-python",
   "name": "python",
   "nbconvert_exporter": "python",
   "pygments_lexer": "ipython3",
   "version": "3.7.4"
  }
 },
 "nbformat": 4,
 "nbformat_minor": 2
}
