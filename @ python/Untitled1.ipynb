{
 "cells": [
  {
   "cell_type": "code",
   "execution_count": 12,
   "metadata": {},
   "outputs": [
    {
     "name": "stdout",
     "output_type": "stream",
     "text": [
      "3 2\n",
      "manoj manoj kumar king king\n",
      "manoj king\n",
      "['manoj', 'manoj', 'kumar', 'king', 'king'] ['manoj', 'king']\n"
     ]
    }
   ],
   "source": [
    "n,m=map(int,input().split(\" \"))\n",
    "for x in range(n):\n",
    "    A=list(map(str,input().split(\" \")))\n",
    "for y in range(m):\n",
    "B=list(map(str,input().split(\" \")))\n",
    "print(A,B)"
   ]
  },
  {
   "cell_type": "code",
   "execution_count": 27,
   "metadata": {},
   "outputs": [
    {
     "name": "stdout",
     "output_type": "stream",
     "text": [
      "1 2 \n",
      "\n",
      "4 5 \n",
      "\n"
     ]
    }
   ],
   "source": [
    "for x in B:\n",
    "    count=1\n",
    "    for y in A:\n",
    "        if x==y:\n",
    "            print(count,end=\" \")\n",
    "        count=count+1\n",
    "    print(\"\\n\")"
   ]
  },
  {
   "cell_type": "code",
   "execution_count": 6,
   "metadata": {},
   "outputs": [
    {
     "data": {
      "text/plain": [
       "defaultdict(None, {})"
      ]
     },
     "execution_count": 6,
     "metadata": {},
     "output_type": "execute_result"
    }
   ],
   "source": [
    "from collections import defaultdict\n",
    "d=defaultdict(list)\n",
    "d."
   ]
  },
  {
   "cell_type": "code",
   "execution_count": 9,
   "metadata": {},
   "outputs": [
    {
     "name": "stdout",
     "output_type": "stream",
     "text": [
      "('python', ['awesome', 'language'])\n",
      "('something-else', ['not relevant'])\n"
     ]
    }
   ],
   "source": [
    "from collections import defaultdict\n",
    "d = defaultdict(list)\n",
    "d['python'].append(\"awesome\")\n",
    "d['something-else'].append(\"not relevant\")\n",
    "d['python'].append(\"language\")\n",
    "for i in d.items():\n",
    "    print(i)"
   ]
  },
  {
   "cell_type": "code",
   "execution_count": 30,
   "metadata": {},
   "outputs": [
    {
     "name": "stdout",
     "output_type": "stream",
     "text": [
      "5 2\n",
      "manoj\n",
      "manoj\n",
      "king\n",
      "king\n",
      "nag\n",
      "manoj\n",
      "king\n",
      "1 2 3 4 1 2 3 4 1 2 3 4 1 2 3 4 "
     ]
    }
   ],
   "source": [
    "n,m=map(int,input().split(\" \"))\n",
    "A=[]\n",
    "b=[]\n",
    "for z in range(n):\n",
    "    c=input()\n",
    "    A.append(c)\n",
    "for q in range(m):\n",
    "    c=input()\n",
    "    B.append(c)\n",
    "for x in B:\n",
    "    count=1\n",
    "    for y in A:\n",
    "        if x==y:\n",
    "            print(count,end=\" \")\n",
    "        count=count+1"
   ]
  },
  {
   "cell_type": "code",
   "execution_count": 5,
   "metadata": {},
   "outputs": [
    {
     "name": "stdout",
     "output_type": "stream",
     "text": [
      "Enter the number: 123456\n",
      "6\n"
     ]
    }
   ],
   "source": [
    "string=input(\"Enter the number: \")\n",
    "count=0\n",
    "for x in string:\n",
    "    count=count+1\n",
    "print(count)"
   ]
  },
  {
   "cell_type": "code",
   "execution_count": 1,
   "metadata": {},
   "outputs": [
    {
     "name": "stdout",
     "output_type": "stream",
     "text": [
      "enter how many numbers you want: 5\n",
      "enter the element1\n",
      "enter the element2\n",
      "enter the element3\n",
      "enter the element4\n",
      "enter the element5\n",
      "[1, 2, 3, 4, 5]\n"
     ]
    }
   ],
   "source": [
    "a=[]\n",
    "n=int(input(\"enter how many numbers you want: \"))\n",
    "for x in range(n):\n",
    "    b=int(input(\"enter the element\"))\n",
    "    a.append(b)\n",
    "print(a)"
   ]
  },
  {
   "cell_type": "code",
   "execution_count": 11,
   "metadata": {},
   "outputs": [
    {
     "name": "stdout",
     "output_type": "stream",
     "text": [
      "-1\n"
     ]
    }
   ],
   "source": [
    "def add(a,b):\n",
    "    return a-b\n",
    "k=add(2,3)\n",
    "print(k)"
   ]
  },
  {
   "cell_type": "code",
   "execution_count": 16,
   "metadata": {},
   "outputs": [
    {
     "name": "stdout",
     "output_type": "stream",
     "text": [
      "abdd\n"
     ]
    }
   ],
   "source": [
    "a=\"abcdcdc\"\n",
    "b=\"cdc\"\n",
    "c=a.replace(\"c\",\"\")\n",
    "print(c)"
   ]
  },
  {
   "cell_type": "code",
   "execution_count": 20,
   "metadata": {},
   "outputs": [
    {
     "name": "stdout",
     "output_type": "stream",
     "text": [
      "1\n",
      "3\n",
      "0\n",
      "3\n",
      "0\n"
     ]
    }
   ],
   "source": [
    "def convertToImproperFraction(quotient,numerator,denominator):\n",
    "    s=quotient*denominator\n",
    "    d=s+numerator\n",
    "    print(d)\n",
    "    print(denominator)\n",
    "a=int(input())\n",
    "b=int(input())\n",
    "c=int(input())\n",
    "convertToImproperFraction(a,b,c)  "
   ]
  },
  {
   "cell_type": "code",
   "execution_count": null,
   "metadata": {},
   "outputs": [],
   "source": []
  }
 ],
 "metadata": {
  "kernelspec": {
   "display_name": "Python 3",
   "language": "python",
   "name": "python3"
  },
  "language_info": {
   "codemirror_mode": {
    "name": "ipython",
    "version": 3
   },
   "file_extension": ".py",
   "mimetype": "text/x-python",
   "name": "python",
   "nbconvert_exporter": "python",
   "pygments_lexer": "ipython3",
   "version": "3.7.4"
  }
 },
 "nbformat": 4,
 "nbformat_minor": 2
}
