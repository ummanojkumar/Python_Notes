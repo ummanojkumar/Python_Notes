{
 "cells": [
  {
   "cell_type": "code",
   "execution_count": 1,
   "metadata": {},
   "outputs": [
    {
     "name": "stdout",
     "output_type": "stream",
     "text": [
      "49673\n",
      "19\n"
     ]
    }
   ],
   "source": [
    "p=[0,1,2,3,5,7] \n",
    "h =int(input())  \n",
    "b=[]\n",
    "for i in str(h): \n",
    "    if int(i) not in p:  \n",
    "        b.append(int(i)) \n",
    "print(sum(b))"
   ]
  },
  {
   "cell_type": "code",
   "execution_count": 10,
   "metadata": {},
   "outputs": [
    {
     "name": "stdout",
     "output_type": "stream",
     "text": [
      "i am genious developer\n"
     ]
    },
    {
     "data": {
      "text/plain": [
       "9"
      ]
     },
     "execution_count": 10,
     "metadata": {},
     "output_type": "execute_result"
    }
   ],
   "source": [
    "a=input().split() \n",
    "len(a[-1])"
   ]
  },
  {
   "cell_type": "code",
   "execution_count": 13,
   "metadata": {},
   "outputs": [
    {
     "name": "stdout",
     "output_type": "stream",
     "text": [
      "25834\n",
      "14\n"
     ]
    }
   ],
   "source": [
    "a = input()  \n",
    "d=[]\n",
    "for i in a: \n",
    "    if int(i)%2==0: \n",
    "        d.append(int(i))\n",
    "print(sum(d))"
   ]
  },
  {
   "cell_type": "code",
   "execution_count": 15,
   "metadata": {},
   "outputs": [
    {
     "name": "stdout",
     "output_type": "stream",
     "text": [
      "2 6 4 3 8 5 8\n",
      "11\n"
     ]
    }
   ],
   "source": [
    "a=input().split()  \n",
    "s=[]\n",
    "for i in a: \n",
    "    s.append(int(i))\n",
    "f=sorted(s)[1]\n",
    "b=sorted(s)[::-1][1]\n",
    "su=f+b\n",
    "print(su)"
   ]
  },
  {
   "cell_type": "code",
   "execution_count": 13,
   "metadata": {},
   "outputs": [
    {
     "data": {
      "text/plain": [
       "2"
      ]
     },
     "execution_count": 13,
     "metadata": {},
     "output_type": "execute_result"
    }
   ],
   "source": [
    "f"
   ]
  },
  {
   "cell_type": "code",
   "execution_count": 18,
   "metadata": {},
   "outputs": [
    {
     "name": "stdout",
     "output_type": "stream",
     "text": [
      "1 2 3 4 "
     ]
    }
   ],
   "source": [
    "n=5\n",
    "i=1\n",
    "while i<n:\n",
    "    print(i,end=\" \")\n",
    "    i=i+1"
   ]
  },
  {
   "cell_type": "code",
   "execution_count": 27,
   "metadata": {},
   "outputs": [
    {
     "name": "stdout",
     "output_type": "stream",
     "text": [
      "1 3 6 10 15 21 28 36 45 "
     ]
    }
   ],
   "source": [
    "a=[]\n",
    "sum=0\n",
    "for x in range(1,10):\n",
    "    sum=sum+x\n",
    "    print(sum,end=\" \")"
   ]
  },
  {
   "cell_type": "code",
   "execution_count": 29,
   "metadata": {},
   "outputs": [
    {
     "name": "stdout",
     "output_type": "stream",
     "text": [
      "0\n",
      "3\n",
      "6\n",
      "9\n"
     ]
    }
   ],
   "source": [
    "sum=0\n",
    "for x in range(0,10,3):\n",
    "    sum=sum+x\n",
    "    print(x)"
   ]
  },
  {
   "cell_type": "code",
   "execution_count": 33,
   "metadata": {},
   "outputs": [
    {
     "name": "stdout",
     "output_type": "stream",
     "text": [
      "enter number: 4\n",
      "enter value:1\n",
      "enter value:2\n",
      "enter value:3\n",
      "enter value:4\n",
      "2 4 6 8 "
     ]
    }
   ],
   "source": [
    "a=int(input(\"enter number: \"))\n",
    "c=[]\n",
    "for x in range(a):\n",
    "    b=int(input(\"enter value:\"))\n",
    "    c.append(b)\n",
    "for y in c:\n",
    "    print(y*2,end=\" \")"
   ]
  },
  {
   "cell_type": "code",
   "execution_count": 40,
   "metadata": {},
   "outputs": [
    {
     "name": "stdout",
     "output_type": "stream",
     "text": [
      "105\n",
      "293\n"
     ]
    }
   ],
   "source": [
    "a=[1,4,10,19,34,52,73,100]\n",
    "b=[]\n",
    "n=int(input())\n",
    "for x in a:\n",
    "    if x<=n:\n",
    "        b.append(x)\n",
    "        \n",
    "print(sum(b))"
   ]
  },
  {
   "cell_type": "code",
   "execution_count": 32,
   "metadata": {},
   "outputs": [
    {
     "name": "stdout",
     "output_type": "stream",
     "text": [
      "105\n",
      "[1, 4, 10, 19, 34, 52, 73, 100, 130, 163, 202, 244, 289, 340, 394, 451, 514, 580, 649, 724, 802, 883, 970, 1060, 1153, 1252, 1354]\n",
      "105\n"
     ]
    }
   ],
   "source": [
    "n=int(input())\n",
    "sum=1\n",
    "a=[1]\n",
    "for x in range(0,n,3):\n",
    "    if x%12==0:\n",
    "        continue\n",
    "    sum=sum+x\n",
    "    a.append(sum)\n",
    "print(a)\n",
    "print(n)"
   ]
  },
  {
   "cell_type": "code",
   "execution_count": 27,
   "metadata": {},
   "outputs": [
    {
     "name": "stdout",
     "output_type": "stream",
     "text": [
      "True\n",
      "True\n",
      "True\n",
      "True\n",
      "True\n"
     ]
    }
   ],
   "source": [
    "s=\"qA2\"\n",
    "count=0\n",
    "for x in s:\n",
    "    if x.isalnum():\n",
    "        count=count+1\n",
    "if count>0:\n",
    "    print(\"True\")\n",
    "else:\n",
    "    print(\"False\")\n",
    "count=0\n",
    "for x in s:\n",
    "    if x.isalpha():\n",
    "        count=count+1\n",
    "if count>0:\n",
    "    print(\"True\")\n",
    "else:\n",
    "    print(\"False\")\n",
    "count=0\n",
    "for x in s:\n",
    "    if x.isdigit():\n",
    "        count=count+1\n",
    "if count>0:\n",
    "    print(\"True\")\n",
    "else:\n",
    "    print(\"False\")\n",
    "count=0\n",
    "for x in s:\n",
    "    if x.islower():\n",
    "        count=count+1\n",
    "if count>0:\n",
    "    print(\"True\")\n",
    "else:\n",
    "    print(\"False\")\n",
    "count=0\n",
    "for x in s:\n",
    "    if x.isupper():\n",
    "        count=count+1\n",
    "if count>0:\n",
    "    print(\"True\")\n",
    "else:\n",
    "    print(\"False\")"
   ]
  },
  {
   "cell_type": "code",
   "execution_count": 38,
   "metadata": {},
   "outputs": [
    {
     "name": "stdout",
     "output_type": "stream",
     "text": [
      "---------------manoj\n"
     ]
    }
   ],
   "source": [
    "width=20\n",
    "print(\"manoj\".rjust(width,\"-\"))"
   ]
  },
  {
   "cell_type": "code",
   "execution_count": 55,
   "metadata": {},
   "outputs": [],
   "source": []
  },
  {
   "cell_type": "code",
   "execution_count": 62,
   "metadata": {},
   "outputs": [
    {
     "name": "stdout",
     "output_type": "stream",
     "text": [
      "True\n",
      "True\n",
      "True\n",
      "True\n",
      "True\n"
     ]
    }
   ],
   "source": [
    "s=\"qA2\"\n",
    "a=any(l.isalnum() for l in s)\n",
    "b=any(l.isalpha() for l in s)\n",
    "c=any(l.isdigit() for l in s)\n",
    "d=any(l.islower() for l in s)\n",
    "e=any(l.isupper() for l in s)\n",
    "print(a)\n",
    "print(b)\n",
    "print(c)\n",
    "print(d)\n",
    "print(e)"
   ]
  },
  {
   "cell_type": "code",
   "execution_count": 64,
   "metadata": {},
   "outputs": [
    {
     "name": "stdout",
     "output_type": "stream",
     "text": [
      "enter the old password: bow AND arrow\n",
      "BOW and ARROW\n"
     ]
    }
   ],
   "source": [
    "a=input(\"enter the old password: \")\n",
    "b=a.swapcase()\n",
    "print(b)\n"
   ]
  },
  {
   "cell_type": "code",
   "execution_count": 71,
   "metadata": {},
   "outputs": [
    {
     "name": "stdout",
     "output_type": "stream",
     "text": [
      "hello\n",
      "hello, \n",
      "o\n",
      ", worl\n"
     ]
    }
   ],
   "source": [
    "text=\"hello, world\"\n",
    "print(text[0:5])\n",
    "print(text[0:7])\n",
    "print(text[8:9])\n",
    "print(text[5:11])"
   ]
  },
  {
   "cell_type": "code",
   "execution_count": 78,
   "metadata": {},
   "outputs": [
    {
     "name": "stdout",
     "output_type": "stream",
     "text": [
      "manoj manoj kumar\n"
     ]
    }
   ],
   "source": [
    "a=\"manoj\"\n",
    "b=\"kumar\"\n",
    "print(\"manoj {} {}\".format(a,b))"
   ]
  },
  {
   "cell_type": "code",
   "execution_count": 82,
   "metadata": {},
   "outputs": [
    {
     "name": "stdout",
     "output_type": "stream",
     "text": [
      "['hii i', ' am manoj']\n"
     ]
    }
   ],
   "source": [
    "a=\"hii i am manoj\"\n",
    "print(a.split(\" \"))"
   ]
  },
  {
   "cell_type": "code",
   "execution_count": 86,
   "metadata": {},
   "outputs": [
    {
     "name": "stdout",
     "output_type": "stream",
     "text": [
      "a*b*c\n"
     ]
    }
   ],
   "source": [
    "dash=\"*\"\n",
    "a=[\"a\",\"b\",\"c\"]\n",
    "n=dash.join(a)\n",
    "print(n)"
   ]
  },
  {
   "cell_type": "code",
   "execution_count": 91,
   "metadata": {},
   "outputs": [
    {
     "name": "stdout",
     "output_type": "stream",
     "text": [
      "<class 'list'>\n",
      "hii + manoj + how + are + you\n"
     ]
    }
   ],
   "source": [
    "a=\"hii manoj how are you\"\n",
    "a=a.split(\" \")\n",
    "print(type(a))\n",
    "j=\" + \".join(a)\n",
    "print(j)\n"
   ]
  },
  {
   "cell_type": "code",
   "execution_count": 97,
   "metadata": {},
   "outputs": [
    {
     "name": "stdout",
     "output_type": "stream",
     "text": [
      "Hii manoj how are you\n",
      "Hii Manoj How Are You\n",
      "hii manoj how are you\n",
      "HII MANOJ HOW ARE YOU\n"
     ]
    }
   ],
   "source": [
    "a=\"hii manoj how are you\"\n",
    "print(a.capitalize())\n",
    "print(a.title())\n",
    "print(a.lower())\n",
    "print(a.upper())"
   ]
  },
  {
   "cell_type": "code",
   "execution_count": 106,
   "metadata": {},
   "outputs": [
    {
     "name": "stdout",
     "output_type": "stream",
     "text": [
      "              hii manoj how are you               \n",
      "hii manoj how are you                             \n",
      "hii manoj how are you\n"
     ]
    }
   ],
   "source": [
    "print(a.center(50))\n",
    "print(a.ljust(50))\n",
    "print(a.rjust(10))"
   ]
  },
  {
   "cell_type": "code",
   "execution_count": 109,
   "metadata": {},
   "outputs": [
    {
     "name": "stdout",
     "output_type": "stream",
     "text": [
      "<class 'bool'>\n",
      "False\n"
     ]
    }
   ],
   "source": [
    "a=True\n",
    "b=False\n",
    "print(\n",
    "print(b)"
   ]
  },
  {
   "cell_type": "code",
   "execution_count": 2,
   "metadata": {},
   "outputs": [
    {
     "ename": "IndexError",
     "evalue": "list index out of range",
     "output_type": "error",
     "traceback": [
      "\u001b[1;31m---------------------------------------------------------------------------\u001b[0m",
      "\u001b[1;31mIndexError\u001b[0m                                Traceback (most recent call last)",
      "\u001b[1;32m<ipython-input-2-e8e847a53fce>\u001b[0m in \u001b[0;36m<module>\u001b[1;34m\u001b[0m\n\u001b[0;32m      1\u001b[0m \u001b[0mn\u001b[0m\u001b[1;33m=\u001b[0m\u001b[1;36m2\u001b[0m\u001b[1;33m\u001b[0m\u001b[1;33m\u001b[0m\u001b[0m\n\u001b[0;32m      2\u001b[0m \u001b[0mCuckoo\u001b[0m\u001b[1;33m=\u001b[0m\u001b[1;33m[\u001b[0m\u001b[1;33m]\u001b[0m\u001b[1;33m\u001b[0m\u001b[1;33m\u001b[0m\u001b[0m\n\u001b[1;32m----> 3\u001b[1;33m \u001b[0ma\u001b[0m\u001b[1;33m=\u001b[0m\u001b[1;36m1\u001b[0m\u001b[1;33m*\u001b[0m\u001b[0mCuckoo\u001b[0m\u001b[1;33m[\u001b[0m\u001b[0mn\u001b[0m\u001b[1;33m-\u001b[0m\u001b[1;36m1\u001b[0m\u001b[1;33m]\u001b[0m\u001b[1;33m+\u001b[0m\u001b[1;36m2\u001b[0m\u001b[1;33m*\u001b[0m\u001b[0mCuckoo\u001b[0m\u001b[1;33m[\u001b[0m\u001b[0mn\u001b[0m\u001b[1;33m-\u001b[0m\u001b[1;36m2\u001b[0m\u001b[1;33m]\u001b[0m\u001b[1;33m+\u001b[0m\u001b[1;36m3\u001b[0m\u001b[1;33m*\u001b[0m\u001b[1;36m1\u001b[0m\u001b[1;33m\u001b[0m\u001b[1;33m\u001b[0m\u001b[0m\n\u001b[0m\u001b[0;32m      4\u001b[0m \u001b[0mCuckoo\u001b[0m\u001b[1;33m.\u001b[0m\u001b[0mappend\u001b[0m\u001b[1;33m(\u001b[0m\u001b[0ma\u001b[0m\u001b[1;33m)\u001b[0m\u001b[1;33m\u001b[0m\u001b[1;33m\u001b[0m\u001b[0m\n\u001b[0;32m      5\u001b[0m \u001b[0mprint\u001b[0m\u001b[1;33m(\u001b[0m\u001b[0mCuckoo\u001b[0m\u001b[1;33m)\u001b[0m\u001b[1;33m\u001b[0m\u001b[1;33m\u001b[0m\u001b[0m\n",
      "\u001b[1;31mIndexError\u001b[0m: list index out of range"
     ]
    }
   ],
   "source": [
    "n=2\n",
    "Cuckoo=[]\n",
    "a=1*Cuckoo[n-1]+2*Cuckoo[n-2]+3*1\n",
    "Cuckoo.append(a)\n",
    "print(Cuckoo)"
   ]
  },
  {
   "cell_type": "code",
   "execution_count": 2,
   "metadata": {},
   "outputs": [
    {
     "name": "stdout",
     "output_type": "stream",
     "text": [
      "4\n",
      "3\n"
     ]
    }
   ],
   "source": [
    "a=[0,1,2,3,4,5]\n",
    "n=int(input())\n",
    "print(a[n-1])\n",
    "    "
   ]
  },
  {
   "cell_type": "code",
   "execution_count": 62,
   "metadata": {},
   "outputs": [
    {
     "name": "stdout",
     "output_type": "stream",
     "text": [
      "akhil is qualified gate exam\n"
     ]
    }
   ],
   "source": [
    "import random\n",
    "a=[\"manoj\",\"akhil\",\"arjun\"]\n",
    "c=random.choice(a)\n",
    "print(c+\" is qualified gate exam\")"
   ]
  },
  {
   "cell_type": "code",
   "execution_count": null,
   "metadata": {},
   "outputs": [],
   "source": []
  },
  {
   "cell_type": "code",
   "execution_count": 9,
   "metadata": {},
   "outputs": [
    {
     "name": "stdout",
     "output_type": "stream",
     "text": [
      "77\n",
      "number is divisible by 2,7,11 and 9 : \n"
     ]
    }
   ],
   "source": [
    "n=int(input())\n",
    "if n%2==0 or n%7==0 or n%11==0 or n%9==0:\n",
    "    print(\"number is divisible by 2,7,11 and 9 : \")\n",
    "else:\n",
    "    print(\"your number is not divisible by 2,7,11 and 9\")"
   ]
  },
  {
   "cell_type": "code",
   "execution_count": 12,
   "metadata": {},
   "outputs": [
    {
     "name": "stdout",
     "output_type": "stream",
     "text": [
      "enter the number: 99888\n",
      "99888 is multiple by 1\n",
      "99888 is multiple by 2\n",
      "99888 is multiple by 3\n",
      "99888 is multiple by 4\n",
      "99888 is multiple by 6\n",
      "99888 is multiple by 8\n",
      "99888 is multiple by 12\n",
      "99888 is multiple by 16\n",
      "99888 is multiple by 24\n",
      "99888 is multiple by 48\n",
      "99888 is multiple by 2081\n",
      "99888 is multiple by 4162\n",
      "99888 is multiple by 6243\n",
      "99888 is multiple by 8324\n",
      "99888 is multiple by 12486\n",
      "99888 is multiple by 16648\n",
      "99888 is multiple by 24972\n",
      "99888 is multiple by 33296\n",
      "99888 is multiple by 49944\n",
      "99888 is multiple by 99888\n"
     ]
    }
   ],
   "source": [
    "a=int(input(\"enter the number: \"))\n",
    "for x in range(1,100000):\n",
    "    if a%x==0:\n",
    "        print(a,\"is multiple by\",x)"
   ]
  },
  {
   "cell_type": "code",
   "execution_count": 13,
   "metadata": {},
   "outputs": [
    {
     "ename": "OSError",
     "evalue": "[WinError 193] %1 is not a valid Win32 application",
     "output_type": "error",
     "traceback": [
      "\u001b[1;31m---------------------------------------------------------------------------\u001b[0m",
      "\u001b[1;31mOSError\u001b[0m                                   Traceback (most recent call last)",
      "\u001b[1;32m<ipython-input-13-0aa0b027fcb6>\u001b[0m in \u001b[0;36m<module>\u001b[1;34m\u001b[0m\n\u001b[1;32m----> 1\u001b[1;33m \u001b[1;32mimport\u001b[0m \u001b[0mnumpy\u001b[0m \u001b[1;32mas\u001b[0m \u001b[0mnp\u001b[0m\u001b[1;33m\u001b[0m\u001b[1;33m\u001b[0m\u001b[0m\n\u001b[0m",
      "\u001b[1;32m~\\AppData\\Roaming\\Python\\Python37\\site-packages\\numpy\\__init__.py\u001b[0m in \u001b[0;36m<module>\u001b[1;34m\u001b[0m\n\u001b[0;32m    136\u001b[0m \u001b[1;33m\u001b[0m\u001b[0m\n\u001b[0;32m    137\u001b[0m     \u001b[1;31m# Allow distributors to run custom init code\u001b[0m\u001b[1;33m\u001b[0m\u001b[1;33m\u001b[0m\u001b[1;33m\u001b[0m\u001b[0m\n\u001b[1;32m--> 138\u001b[1;33m     \u001b[1;32mfrom\u001b[0m \u001b[1;33m.\u001b[0m \u001b[1;32mimport\u001b[0m \u001b[0m_distributor_init\u001b[0m\u001b[1;33m\u001b[0m\u001b[1;33m\u001b[0m\u001b[0m\n\u001b[0m\u001b[0;32m    139\u001b[0m \u001b[1;33m\u001b[0m\u001b[0m\n\u001b[0;32m    140\u001b[0m     \u001b[1;32mfrom\u001b[0m \u001b[1;33m.\u001b[0m \u001b[1;32mimport\u001b[0m \u001b[0mcore\u001b[0m\u001b[1;33m\u001b[0m\u001b[1;33m\u001b[0m\u001b[0m\n",
      "\u001b[1;32m~\\AppData\\Roaming\\Python\\Python37\\site-packages\\numpy\\_distributor_init.py\u001b[0m in \u001b[0;36m<module>\u001b[1;34m\u001b[0m\n\u001b[0;32m     24\u001b[0m                 \u001b[1;31m# NOTE: would it change behavior to load ALL\u001b[0m\u001b[1;33m\u001b[0m\u001b[1;33m\u001b[0m\u001b[1;33m\u001b[0m\u001b[0m\n\u001b[0;32m     25\u001b[0m                 \u001b[1;31m# DLLs at this path vs. the name restriction?\u001b[0m\u001b[1;33m\u001b[0m\u001b[1;33m\u001b[0m\u001b[1;33m\u001b[0m\u001b[0m\n\u001b[1;32m---> 26\u001b[1;33m                 \u001b[0mWinDLL\u001b[0m\u001b[1;33m(\u001b[0m\u001b[0mos\u001b[0m\u001b[1;33m.\u001b[0m\u001b[0mpath\u001b[0m\u001b[1;33m.\u001b[0m\u001b[0mabspath\u001b[0m\u001b[1;33m(\u001b[0m\u001b[0mfilename\u001b[0m\u001b[1;33m)\u001b[0m\u001b[1;33m)\u001b[0m\u001b[1;33m\u001b[0m\u001b[1;33m\u001b[0m\u001b[0m\n\u001b[0m\u001b[0;32m     27\u001b[0m                 \u001b[0mDLL_filenames\u001b[0m\u001b[1;33m.\u001b[0m\u001b[0mappend\u001b[0m\u001b[1;33m(\u001b[0m\u001b[0mfilename\u001b[0m\u001b[1;33m)\u001b[0m\u001b[1;33m\u001b[0m\u001b[1;33m\u001b[0m\u001b[0m\n\u001b[0;32m     28\u001b[0m         \u001b[1;32mif\u001b[0m \u001b[0mlen\u001b[0m\u001b[1;33m(\u001b[0m\u001b[0mDLL_filenames\u001b[0m\u001b[1;33m)\u001b[0m \u001b[1;33m>\u001b[0m \u001b[1;36m1\u001b[0m\u001b[1;33m:\u001b[0m\u001b[1;33m\u001b[0m\u001b[1;33m\u001b[0m\u001b[0m\n",
      "\u001b[1;32m~\\Anaconda3\\lib\\ctypes\\__init__.py\u001b[0m in \u001b[0;36m__init__\u001b[1;34m(self, name, mode, handle, use_errno, use_last_error)\u001b[0m\n\u001b[0;32m    362\u001b[0m \u001b[1;33m\u001b[0m\u001b[0m\n\u001b[0;32m    363\u001b[0m         \u001b[1;32mif\u001b[0m \u001b[0mhandle\u001b[0m \u001b[1;32mis\u001b[0m \u001b[1;32mNone\u001b[0m\u001b[1;33m:\u001b[0m\u001b[1;33m\u001b[0m\u001b[1;33m\u001b[0m\u001b[0m\n\u001b[1;32m--> 364\u001b[1;33m             \u001b[0mself\u001b[0m\u001b[1;33m.\u001b[0m\u001b[0m_handle\u001b[0m \u001b[1;33m=\u001b[0m \u001b[0m_dlopen\u001b[0m\u001b[1;33m(\u001b[0m\u001b[0mself\u001b[0m\u001b[1;33m.\u001b[0m\u001b[0m_name\u001b[0m\u001b[1;33m,\u001b[0m \u001b[0mmode\u001b[0m\u001b[1;33m)\u001b[0m\u001b[1;33m\u001b[0m\u001b[1;33m\u001b[0m\u001b[0m\n\u001b[0m\u001b[0;32m    365\u001b[0m         \u001b[1;32melse\u001b[0m\u001b[1;33m:\u001b[0m\u001b[1;33m\u001b[0m\u001b[1;33m\u001b[0m\u001b[0m\n\u001b[0;32m    366\u001b[0m             \u001b[0mself\u001b[0m\u001b[1;33m.\u001b[0m\u001b[0m_handle\u001b[0m \u001b[1;33m=\u001b[0m \u001b[0mhandle\u001b[0m\u001b[1;33m\u001b[0m\u001b[1;33m\u001b[0m\u001b[0m\n",
      "\u001b[1;31mOSError\u001b[0m: [WinError 193] %1 is not a valid Win32 application"
     ]
    }
   ],
   "source": [
    "import numpy as np"
   ]
  },
  {
   "cell_type": "code",
   "execution_count": 24,
   "metadata": {},
   "outputs": [
    {
     "name": "stdout",
     "output_type": "stream",
     "text": [
      "enter the letter: h\n",
      "g h i\n"
     ]
    }
   ],
   "source": [
    "n=input(\"enter the letter: \")\n",
    "c=ord(n)\n",
    "print(chr(c-1),chr(c),chr(c+1))"
   ]
  },
  {
   "cell_type": "code",
   "execution_count": 53,
   "metadata": {},
   "outputs": [
    {
     "name": "stdout",
     "output_type": "stream",
     "text": [
      "Enter the character: u\n",
      "i u y\n"
     ]
    }
   ],
   "source": [
    "x=['q','w','e','r','t','y','u','i','o','p']\n",
    "y=['a','s','d','f','g','h','j','k','l']\n",
    "z=['z','x','c','v','b','n','m']\n",
    "c=input(\"Enter the character: \")\n",
    "b=a.index(c)\n",
    "if c in x:\n",
    "    print(a[b+1],a[b],a[b-1])\n",
    "elif c in y:\n",
    "    print(a[b-1],a[b],a[b+1])\n",
    "elif c in z:\n",
    "    print(a[b+1],a[b],a[b-1])\n",
    "#b=a.index(c)\n",
    "#print(a[b-1],a[b],a[b+1])"
   ]
  },
  {
   "cell_type": "code",
   "execution_count": 76,
   "metadata": {},
   "outputs": [
    {
     "name": "stdout",
     "output_type": "stream",
     "text": [
      "enter the number:8\n",
      "31\n"
     ]
    }
   ],
   "source": [
    "import datetime\n",
    "n=int(input(\"enter the number:\"))\n",
    "x=datetime.datetime.now()\n",
    "h=x.hour\n",
    "m=x.minute\n",
    "print(h-12+m+n)"
   ]
  },
  {
   "cell_type": "code",
   "execution_count": 81,
   "metadata": {},
   "outputs": [
    {
     "name": "stdout",
     "output_type": "stream",
     "text": [
      "enter the number:1\n",
      "enter the number:2\n",
      "enter the number:3\n",
      "3 2 5\n"
     ]
    }
   ],
   "source": [
    "a=[]\n",
    "n=3\n",
    "for x in range(n):\n",
    "    b=int(input(\"enter the number:\"))\n",
    "    a.append(b)\n",
    "print(a[0]+a[1],a[1],a[1]+a[2])"
   ]
  },
  {
   "cell_type": "markdown",
   "metadata": {},
   "source": []
  },
  {
   "cell_type": "code",
   "execution_count": 9,
   "metadata": {},
   "outputs": [
    {
     "name": "stdout",
     "output_type": "stream",
     "text": [
      "how many numbers you want:4\n",
      "enter the number:1\n",
      "enter the number:1\n",
      "enter the number:2\n",
      "enter the number:2\n",
      "{1: 2, 2: 2}\n",
      "0\n",
      "0\n"
     ]
    }
   ],
   "source": [
    "a=[]\n",
    "n=int(input(\"how many numbers you want:\"))\n",
    "for x in range(n):\n",
    "    b=int(input(\"enter the number:\"))\n",
    "    a.append(b)\n",
    "\n",
    "b=set(a)\n",
    "d={\n",
    "    \n",
    "}\n",
    "for x in b:\n",
    "    c=a.count(x)\n",
    "    d.update({x:c})\n",
    "print(d)\n",
    "m=max(d.values())\n",
    "k=list(d.keys())\n",
    "v=list(d.values())\n",
    "i=v.index(m)\n",
    "#print(k[i])\n",
    "for s in v:\n",
    "    if s==m:\n",
    "        print(v.index(s))"
   ]
  },
  {
   "cell_type": "markdown",
   "metadata": {},
   "source": []
  },
  {
   "cell_type": "code",
   "execution_count": 4,
   "metadata": {},
   "outputs": [
    {
     "ename": "AttributeError",
     "evalue": "'list' object has no attribute 'find'",
     "output_type": "error",
     "traceback": [
      "\u001b[1;31m---------------------------------------------------------------------------\u001b[0m",
      "\u001b[1;31mAttributeError\u001b[0m                            Traceback (most recent call last)",
      "\u001b[1;32m<ipython-input-4-c38c2487de42>\u001b[0m in \u001b[0;36m<module>\u001b[1;34m\u001b[0m\n\u001b[0;32m      1\u001b[0m \u001b[0ma\u001b[0m\u001b[1;33m=\u001b[0m\u001b[1;33m[\u001b[0m\u001b[1;36m1\u001b[0m\u001b[1;33m,\u001b[0m\u001b[1;36m2\u001b[0m\u001b[1;33m,\u001b[0m\u001b[1;36m3\u001b[0m\u001b[1;33m,\u001b[0m\u001b[1;36m4\u001b[0m\u001b[1;33m,\u001b[0m\u001b[1;36m5\u001b[0m\u001b[1;33m]\u001b[0m\u001b[1;33m\u001b[0m\u001b[1;33m\u001b[0m\u001b[0m\n\u001b[1;32m----> 2\u001b[1;33m \u001b[0mb\u001b[0m\u001b[1;33m=\u001b[0m\u001b[0ma\u001b[0m\u001b[1;33m.\u001b[0m\u001b[0mfind\u001b[0m\u001b[1;33m(\u001b[0m\u001b[1;36m1\u001b[0m\u001b[1;33m)\u001b[0m\u001b[1;33m\u001b[0m\u001b[1;33m\u001b[0m\u001b[0m\n\u001b[0m\u001b[0;32m      3\u001b[0m \u001b[0mprint\u001b[0m\u001b[1;33m(\u001b[0m\u001b[0mb\u001b[0m\u001b[1;33m)\u001b[0m\u001b[1;33m\u001b[0m\u001b[1;33m\u001b[0m\u001b[0m\n",
      "\u001b[1;31mAttributeError\u001b[0m: 'list' object has no attribute 'find'"
     ]
    }
   ],
   "source": []
  },
  {
   "cell_type": "code",
   "execution_count": 4,
   "metadata": {},
   "outputs": [
    {
     "name": "stdout",
     "output_type": "stream",
     "text": [
      "enter the string: Akhil is a excellent guy\n",
      "3\n"
     ]
    }
   ],
   "source": [
    "a=input(\"enter the string: \")\n",
    "b=a.split()\n",
    "c=[]\n",
    "for x in b:\n",
    "    sum=0\n",
    "    for y in x:\n",
    "        if y==\"a\" or y==\"A\":\n",
    "            sum=sum+1\n",
    "        elif y==\"e\" or y==\"E\":\n",
    "            sum=sum+1\n",
    "        elif y==\"i\" or y==\"I\":\n",
    "            sum=sum+1\n",
    "        elif y==\"o\" or y==\"O\":\n",
    "            sum=sum+1\n",
    "        elif y==\"u\" or y==\"U\":\n",
    "            sum=sum+1\n",
    "    c.append(sum)\n",
    "print(max(c))"
   ]
  },
  {
   "cell_type": "code",
   "execution_count": 44,
   "metadata": {},
   "outputs": [],
   "source": [
    "import numpy as np"
   ]
  },
  {
   "cell_type": "code",
   "execution_count": null,
   "metadata": {},
   "outputs": [],
   "source": [
    "j=int(input(\"enter the number:\"))\n",
    "for x in range(3):\n",
    "    print(j,\"* \",x,\"=\",x*j)"
   ]
  },
  {
   "cell_type": "code",
   "execution_count": 1,
   "metadata": {},
   "outputs": [],
   "source": [
    "import pandas as pd"
   ]
  },
  {
   "cell_type": "code",
   "execution_count": 102,
   "metadata": {},
   "outputs": [],
   "source": [
    "df = pd.util.testing.makeTimeDataFrame()"
   ]
  },
  {
   "cell_type": "code",
   "execution_count": 103,
   "metadata": {},
   "outputs": [
    {
     "data": {
      "text/html": [
       "<div>\n",
       "<style scoped>\n",
       "    .dataframe tbody tr th:only-of-type {\n",
       "        vertical-align: middle;\n",
       "    }\n",
       "\n",
       "    .dataframe tbody tr th {\n",
       "        vertical-align: top;\n",
       "    }\n",
       "\n",
       "    .dataframe thead th {\n",
       "        text-align: right;\n",
       "    }\n",
       "</style>\n",
       "<table border=\"1\" class=\"dataframe\">\n",
       "  <thead>\n",
       "    <tr style=\"text-align: right;\">\n",
       "      <th></th>\n",
       "      <th>A</th>\n",
       "      <th>B</th>\n",
       "      <th>C</th>\n",
       "      <th>D</th>\n",
       "    </tr>\n",
       "  </thead>\n",
       "  <tbody>\n",
       "    <tr>\n",
       "      <th>2000-01-03</th>\n",
       "      <td>-0.746221</td>\n",
       "      <td>0.442670</td>\n",
       "      <td>-0.016407</td>\n",
       "      <td>1.289697</td>\n",
       "    </tr>\n",
       "    <tr>\n",
       "      <th>2000-01-04</th>\n",
       "      <td>-0.046212</td>\n",
       "      <td>0.409432</td>\n",
       "      <td>-0.386183</td>\n",
       "      <td>0.547719</td>\n",
       "    </tr>\n",
       "    <tr>\n",
       "      <th>2000-01-05</th>\n",
       "      <td>-0.337800</td>\n",
       "      <td>0.486744</td>\n",
       "      <td>-0.193007</td>\n",
       "      <td>-0.482822</td>\n",
       "    </tr>\n",
       "    <tr>\n",
       "      <th>2000-01-06</th>\n",
       "      <td>0.272708</td>\n",
       "      <td>2.097340</td>\n",
       "      <td>1.914410</td>\n",
       "      <td>-1.215688</td>\n",
       "    </tr>\n",
       "    <tr>\n",
       "      <th>2000-01-07</th>\n",
       "      <td>0.690289</td>\n",
       "      <td>-0.036173</td>\n",
       "      <td>-0.050871</td>\n",
       "      <td>-0.747599</td>\n",
       "    </tr>\n",
       "  </tbody>\n",
       "</table>\n",
       "</div>"
      ],
      "text/plain": [
       "                   A         B         C         D\n",
       "2000-01-03 -0.746221  0.442670 -0.016407  1.289697\n",
       "2000-01-04 -0.046212  0.409432 -0.386183  0.547719\n",
       "2000-01-05 -0.337800  0.486744 -0.193007 -0.482822\n",
       "2000-01-06  0.272708  2.097340  1.914410 -1.215688\n",
       "2000-01-07  0.690289 -0.036173 -0.050871 -0.747599"
      ]
     },
     "execution_count": 103,
     "metadata": {},
     "output_type": "execute_result"
    }
   ],
   "source": [
    "df.head()"
   ]
  },
  {
   "cell_type": "code",
   "execution_count": 107,
   "metadata": {},
   "outputs": [
    {
     "data": {
      "text/html": [
       "<div>\n",
       "<style scoped>\n",
       "    .dataframe tbody tr th:only-of-type {\n",
       "        vertical-align: middle;\n",
       "    }\n",
       "\n",
       "    .dataframe tbody tr th {\n",
       "        vertical-align: top;\n",
       "    }\n",
       "\n",
       "    .dataframe thead th {\n",
       "        text-align: right;\n",
       "    }\n",
       "</style>\n",
       "<table border=\"1\" class=\"dataframe\">\n",
       "  <thead>\n",
       "    <tr style=\"text-align: right;\">\n",
       "      <th></th>\n",
       "      <th>A</th>\n",
       "      <th>B</th>\n",
       "      <th>C</th>\n",
       "      <th>D</th>\n",
       "      <th>index</th>\n",
       "    </tr>\n",
       "  </thead>\n",
       "  <tbody>\n",
       "    <tr>\n",
       "      <th>2000-01-03</th>\n",
       "      <td>-0.746221</td>\n",
       "      <td>0.442670</td>\n",
       "      <td>-0.016407</td>\n",
       "      <td>1.289697</td>\n",
       "      <td>2000-01-03</td>\n",
       "    </tr>\n",
       "    <tr>\n",
       "      <th>2000-01-04</th>\n",
       "      <td>-0.046212</td>\n",
       "      <td>0.409432</td>\n",
       "      <td>-0.386183</td>\n",
       "      <td>0.547719</td>\n",
       "      <td>2000-01-04</td>\n",
       "    </tr>\n",
       "    <tr>\n",
       "      <th>2000-01-05</th>\n",
       "      <td>-0.337800</td>\n",
       "      <td>0.486744</td>\n",
       "      <td>-0.193007</td>\n",
       "      <td>-0.482822</td>\n",
       "      <td>2000-01-05</td>\n",
       "    </tr>\n",
       "    <tr>\n",
       "      <th>2000-01-06</th>\n",
       "      <td>0.272708</td>\n",
       "      <td>2.097340</td>\n",
       "      <td>1.914410</td>\n",
       "      <td>-1.215688</td>\n",
       "      <td>2000-01-06</td>\n",
       "    </tr>\n",
       "    <tr>\n",
       "      <th>2000-01-07</th>\n",
       "      <td>0.690289</td>\n",
       "      <td>-0.036173</td>\n",
       "      <td>-0.050871</td>\n",
       "      <td>-0.747599</td>\n",
       "      <td>2000-01-07</td>\n",
       "    </tr>\n",
       "    <tr>\n",
       "      <th>2000-01-10</th>\n",
       "      <td>-0.372784</td>\n",
       "      <td>-0.451191</td>\n",
       "      <td>0.346885</td>\n",
       "      <td>1.281435</td>\n",
       "      <td>2000-01-10</td>\n",
       "    </tr>\n",
       "    <tr>\n",
       "      <th>2000-01-11</th>\n",
       "      <td>-0.515505</td>\n",
       "      <td>0.304415</td>\n",
       "      <td>1.240793</td>\n",
       "      <td>-2.004530</td>\n",
       "      <td>2000-01-11</td>\n",
       "    </tr>\n",
       "    <tr>\n",
       "      <th>2000-01-12</th>\n",
       "      <td>0.781119</td>\n",
       "      <td>0.090321</td>\n",
       "      <td>0.094249</td>\n",
       "      <td>0.209716</td>\n",
       "      <td>2000-01-12</td>\n",
       "    </tr>\n",
       "    <tr>\n",
       "      <th>2000-01-13</th>\n",
       "      <td>-1.634889</td>\n",
       "      <td>-0.240419</td>\n",
       "      <td>2.018999</td>\n",
       "      <td>0.430276</td>\n",
       "      <td>2000-01-13</td>\n",
       "    </tr>\n",
       "    <tr>\n",
       "      <th>2000-01-14</th>\n",
       "      <td>0.550169</td>\n",
       "      <td>1.226896</td>\n",
       "      <td>1.157950</td>\n",
       "      <td>0.531809</td>\n",
       "      <td>2000-01-14</td>\n",
       "    </tr>\n",
       "    <tr>\n",
       "      <th>2000-01-17</th>\n",
       "      <td>0.420333</td>\n",
       "      <td>-1.003432</td>\n",
       "      <td>-0.325250</td>\n",
       "      <td>-1.200947</td>\n",
       "      <td>2000-01-17</td>\n",
       "    </tr>\n",
       "    <tr>\n",
       "      <th>2000-01-18</th>\n",
       "      <td>0.239688</td>\n",
       "      <td>0.441827</td>\n",
       "      <td>-2.141431</td>\n",
       "      <td>-0.240556</td>\n",
       "      <td>2000-01-18</td>\n",
       "    </tr>\n",
       "    <tr>\n",
       "      <th>2000-01-19</th>\n",
       "      <td>-1.544787</td>\n",
       "      <td>0.987493</td>\n",
       "      <td>-0.499188</td>\n",
       "      <td>0.114945</td>\n",
       "      <td>2000-01-19</td>\n",
       "    </tr>\n",
       "    <tr>\n",
       "      <th>2000-01-20</th>\n",
       "      <td>-0.041546</td>\n",
       "      <td>1.236812</td>\n",
       "      <td>-0.061780</td>\n",
       "      <td>-0.854016</td>\n",
       "      <td>2000-01-20</td>\n",
       "    </tr>\n",
       "    <tr>\n",
       "      <th>2000-01-21</th>\n",
       "      <td>0.952849</td>\n",
       "      <td>-0.548165</td>\n",
       "      <td>0.134770</td>\n",
       "      <td>1.259920</td>\n",
       "      <td>2000-01-21</td>\n",
       "    </tr>\n",
       "    <tr>\n",
       "      <th>2000-01-24</th>\n",
       "      <td>-0.701707</td>\n",
       "      <td>-0.030932</td>\n",
       "      <td>0.757544</td>\n",
       "      <td>-1.267244</td>\n",
       "      <td>2000-01-24</td>\n",
       "    </tr>\n",
       "    <tr>\n",
       "      <th>2000-01-25</th>\n",
       "      <td>-1.760974</td>\n",
       "      <td>0.281307</td>\n",
       "      <td>0.485849</td>\n",
       "      <td>-0.659747</td>\n",
       "      <td>2000-01-25</td>\n",
       "    </tr>\n",
       "    <tr>\n",
       "      <th>2000-01-26</th>\n",
       "      <td>0.428301</td>\n",
       "      <td>0.277490</td>\n",
       "      <td>-0.140550</td>\n",
       "      <td>-0.697650</td>\n",
       "      <td>2000-01-26</td>\n",
       "    </tr>\n",
       "    <tr>\n",
       "      <th>2000-01-27</th>\n",
       "      <td>-0.543018</td>\n",
       "      <td>-2.312209</td>\n",
       "      <td>2.545372</td>\n",
       "      <td>0.819162</td>\n",
       "      <td>2000-01-27</td>\n",
       "    </tr>\n",
       "    <tr>\n",
       "      <th>2000-01-28</th>\n",
       "      <td>-2.157501</td>\n",
       "      <td>-1.532951</td>\n",
       "      <td>0.320077</td>\n",
       "      <td>-1.201952</td>\n",
       "      <td>2000-01-28</td>\n",
       "    </tr>\n",
       "    <tr>\n",
       "      <th>2000-01-31</th>\n",
       "      <td>0.965970</td>\n",
       "      <td>-0.297216</td>\n",
       "      <td>1.195755</td>\n",
       "      <td>0.382808</td>\n",
       "      <td>2000-01-31</td>\n",
       "    </tr>\n",
       "    <tr>\n",
       "      <th>2000-02-01</th>\n",
       "      <td>0.525472</td>\n",
       "      <td>0.748442</td>\n",
       "      <td>-1.287517</td>\n",
       "      <td>-0.385890</td>\n",
       "      <td>2000-02-01</td>\n",
       "    </tr>\n",
       "    <tr>\n",
       "      <th>2000-02-02</th>\n",
       "      <td>-0.096990</td>\n",
       "      <td>-0.057766</td>\n",
       "      <td>0.496898</td>\n",
       "      <td>-0.417062</td>\n",
       "      <td>2000-02-02</td>\n",
       "    </tr>\n",
       "    <tr>\n",
       "      <th>2000-02-03</th>\n",
       "      <td>0.637410</td>\n",
       "      <td>-0.623054</td>\n",
       "      <td>0.009831</td>\n",
       "      <td>0.134716</td>\n",
       "      <td>2000-02-03</td>\n",
       "    </tr>\n",
       "    <tr>\n",
       "      <th>2000-02-04</th>\n",
       "      <td>0.406096</td>\n",
       "      <td>1.244871</td>\n",
       "      <td>-0.095433</td>\n",
       "      <td>0.691127</td>\n",
       "      <td>2000-02-04</td>\n",
       "    </tr>\n",
       "    <tr>\n",
       "      <th>2000-02-07</th>\n",
       "      <td>0.013000</td>\n",
       "      <td>1.442664</td>\n",
       "      <td>-1.043835</td>\n",
       "      <td>-1.186056</td>\n",
       "      <td>2000-02-07</td>\n",
       "    </tr>\n",
       "    <tr>\n",
       "      <th>2000-02-08</th>\n",
       "      <td>-0.776109</td>\n",
       "      <td>-0.750663</td>\n",
       "      <td>-0.930461</td>\n",
       "      <td>-0.788766</td>\n",
       "      <td>2000-02-08</td>\n",
       "    </tr>\n",
       "    <tr>\n",
       "      <th>2000-02-09</th>\n",
       "      <td>-0.422114</td>\n",
       "      <td>0.614830</td>\n",
       "      <td>-0.973808</td>\n",
       "      <td>0.236969</td>\n",
       "      <td>2000-02-09</td>\n",
       "    </tr>\n",
       "    <tr>\n",
       "      <th>2000-02-10</th>\n",
       "      <td>-0.913963</td>\n",
       "      <td>-0.542636</td>\n",
       "      <td>0.875911</td>\n",
       "      <td>0.319806</td>\n",
       "      <td>2000-02-10</td>\n",
       "    </tr>\n",
       "    <tr>\n",
       "      <th>2000-02-11</th>\n",
       "      <td>-1.137499</td>\n",
       "      <td>-0.043941</td>\n",
       "      <td>-0.249920</td>\n",
       "      <td>-0.518393</td>\n",
       "      <td>2000-02-11</td>\n",
       "    </tr>\n",
       "  </tbody>\n",
       "</table>\n",
       "</div>"
      ],
      "text/plain": [
       "                   A         B         C         D      index\n",
       "2000-01-03 -0.746221  0.442670 -0.016407  1.289697 2000-01-03\n",
       "2000-01-04 -0.046212  0.409432 -0.386183  0.547719 2000-01-04\n",
       "2000-01-05 -0.337800  0.486744 -0.193007 -0.482822 2000-01-05\n",
       "2000-01-06  0.272708  2.097340  1.914410 -1.215688 2000-01-06\n",
       "2000-01-07  0.690289 -0.036173 -0.050871 -0.747599 2000-01-07\n",
       "2000-01-10 -0.372784 -0.451191  0.346885  1.281435 2000-01-10\n",
       "2000-01-11 -0.515505  0.304415  1.240793 -2.004530 2000-01-11\n",
       "2000-01-12  0.781119  0.090321  0.094249  0.209716 2000-01-12\n",
       "2000-01-13 -1.634889 -0.240419  2.018999  0.430276 2000-01-13\n",
       "2000-01-14  0.550169  1.226896  1.157950  0.531809 2000-01-14\n",
       "2000-01-17  0.420333 -1.003432 -0.325250 -1.200947 2000-01-17\n",
       "2000-01-18  0.239688  0.441827 -2.141431 -0.240556 2000-01-18\n",
       "2000-01-19 -1.544787  0.987493 -0.499188  0.114945 2000-01-19\n",
       "2000-01-20 -0.041546  1.236812 -0.061780 -0.854016 2000-01-20\n",
       "2000-01-21  0.952849 -0.548165  0.134770  1.259920 2000-01-21\n",
       "2000-01-24 -0.701707 -0.030932  0.757544 -1.267244 2000-01-24\n",
       "2000-01-25 -1.760974  0.281307  0.485849 -0.659747 2000-01-25\n",
       "2000-01-26  0.428301  0.277490 -0.140550 -0.697650 2000-01-26\n",
       "2000-01-27 -0.543018 -2.312209  2.545372  0.819162 2000-01-27\n",
       "2000-01-28 -2.157501 -1.532951  0.320077 -1.201952 2000-01-28\n",
       "2000-01-31  0.965970 -0.297216  1.195755  0.382808 2000-01-31\n",
       "2000-02-01  0.525472  0.748442 -1.287517 -0.385890 2000-02-01\n",
       "2000-02-02 -0.096990 -0.057766  0.496898 -0.417062 2000-02-02\n",
       "2000-02-03  0.637410 -0.623054  0.009831  0.134716 2000-02-03\n",
       "2000-02-04  0.406096  1.244871 -0.095433  0.691127 2000-02-04\n",
       "2000-02-07  0.013000  1.442664 -1.043835 -1.186056 2000-02-07\n",
       "2000-02-08 -0.776109 -0.750663 -0.930461 -0.788766 2000-02-08\n",
       "2000-02-09 -0.422114  0.614830 -0.973808  0.236969 2000-02-09\n",
       "2000-02-10 -0.913963 -0.542636  0.875911  0.319806 2000-02-10\n",
       "2000-02-11 -1.137499 -0.043941 -0.249920 -0.518393 2000-02-11"
      ]
     },
     "execution_count": 107,
     "metadata": {},
     "output_type": "execute_result"
    }
   ],
   "source": [
    "df[\"index\"] = df.index \n",
    "df.reset_index()"
   ]
  },
  {
   "cell_type": "code",
   "execution_count": 100,
   "metadata": {},
   "outputs": [
    {
     "data": {
      "text/plain": [
       "A    float64\n",
       "B    float64\n",
       "C    float64\n",
       "D    float64\n",
       "dtype: object"
      ]
     },
     "execution_count": 100,
     "metadata": {},
     "output_type": "execute_result"
    }
   ],
   "source": [
    "df.head().dtypes"
   ]
  },
  {
   "cell_type": "code",
   "execution_count": 101,
   "metadata": {},
   "outputs": [
    {
     "ename": "KeyError",
     "evalue": "'index'",
     "output_type": "error",
     "traceback": [
      "\u001b[1;31m---------------------------------------------------------------------------\u001b[0m",
      "\u001b[1;31mKeyError\u001b[0m                                  Traceback (most recent call last)",
      "\u001b[1;32m~\\Anaconda3\\lib\\site-packages\\pandas\\core\\indexes\\base.py\u001b[0m in \u001b[0;36mget_loc\u001b[1;34m(self, key, method, tolerance)\u001b[0m\n\u001b[0;32m   3079\u001b[0m             \u001b[1;32mtry\u001b[0m\u001b[1;33m:\u001b[0m\u001b[1;33m\u001b[0m\u001b[1;33m\u001b[0m\u001b[0m\n\u001b[1;32m-> 3080\u001b[1;33m                 \u001b[1;32mreturn\u001b[0m \u001b[0mself\u001b[0m\u001b[1;33m.\u001b[0m\u001b[0m_engine\u001b[0m\u001b[1;33m.\u001b[0m\u001b[0mget_loc\u001b[0m\u001b[1;33m(\u001b[0m\u001b[0mcasted_key\u001b[0m\u001b[1;33m)\u001b[0m\u001b[1;33m\u001b[0m\u001b[1;33m\u001b[0m\u001b[0m\n\u001b[0m\u001b[0;32m   3081\u001b[0m             \u001b[1;32mexcept\u001b[0m \u001b[0mKeyError\u001b[0m \u001b[1;32mas\u001b[0m \u001b[0merr\u001b[0m\u001b[1;33m:\u001b[0m\u001b[1;33m\u001b[0m\u001b[1;33m\u001b[0m\u001b[0m\n",
      "\u001b[1;32mpandas\\_libs\\index.pyx\u001b[0m in \u001b[0;36mpandas._libs.index.IndexEngine.get_loc\u001b[1;34m()\u001b[0m\n",
      "\u001b[1;32mpandas\\_libs\\index.pyx\u001b[0m in \u001b[0;36mpandas._libs.index.IndexEngine.get_loc\u001b[1;34m()\u001b[0m\n",
      "\u001b[1;32mpandas\\_libs\\hashtable_class_helper.pxi\u001b[0m in \u001b[0;36mpandas._libs.hashtable.PyObjectHashTable.get_item\u001b[1;34m()\u001b[0m\n",
      "\u001b[1;32mpandas\\_libs\\hashtable_class_helper.pxi\u001b[0m in \u001b[0;36mpandas._libs.hashtable.PyObjectHashTable.get_item\u001b[1;34m()\u001b[0m\n",
      "\u001b[1;31mKeyError\u001b[0m: 'index'",
      "\nThe above exception was the direct cause of the following exception:\n",
      "\u001b[1;31mKeyError\u001b[0m                                  Traceback (most recent call last)",
      "\u001b[1;32m<ipython-input-101-a13cd4d6f0e8>\u001b[0m in \u001b[0;36m<module>\u001b[1;34m\u001b[0m\n\u001b[1;32m----> 1\u001b[1;33m \u001b[0mdf\u001b[0m\u001b[1;33m[\u001b[0m\u001b[1;34m\"index\"\u001b[0m\u001b[1;33m]\u001b[0m\u001b[1;33m.\u001b[0m\u001b[0mdt\u001b[0m\u001b[1;33m.\u001b[0m\u001b[0mday\u001b[0m\u001b[1;33m\u001b[0m\u001b[1;33m\u001b[0m\u001b[0m\n\u001b[0m",
      "\u001b[1;32m~\\Anaconda3\\lib\\site-packages\\pandas\\core\\frame.py\u001b[0m in \u001b[0;36m__getitem__\u001b[1;34m(self, key)\u001b[0m\n\u001b[0;32m   3022\u001b[0m             \u001b[1;32mif\u001b[0m \u001b[0mself\u001b[0m\u001b[1;33m.\u001b[0m\u001b[0mcolumns\u001b[0m\u001b[1;33m.\u001b[0m\u001b[0mnlevels\u001b[0m \u001b[1;33m>\u001b[0m \u001b[1;36m1\u001b[0m\u001b[1;33m:\u001b[0m\u001b[1;33m\u001b[0m\u001b[1;33m\u001b[0m\u001b[0m\n\u001b[0;32m   3023\u001b[0m                 \u001b[1;32mreturn\u001b[0m \u001b[0mself\u001b[0m\u001b[1;33m.\u001b[0m\u001b[0m_getitem_multilevel\u001b[0m\u001b[1;33m(\u001b[0m\u001b[0mkey\u001b[0m\u001b[1;33m)\u001b[0m\u001b[1;33m\u001b[0m\u001b[1;33m\u001b[0m\u001b[0m\n\u001b[1;32m-> 3024\u001b[1;33m             \u001b[0mindexer\u001b[0m \u001b[1;33m=\u001b[0m \u001b[0mself\u001b[0m\u001b[1;33m.\u001b[0m\u001b[0mcolumns\u001b[0m\u001b[1;33m.\u001b[0m\u001b[0mget_loc\u001b[0m\u001b[1;33m(\u001b[0m\u001b[0mkey\u001b[0m\u001b[1;33m)\u001b[0m\u001b[1;33m\u001b[0m\u001b[1;33m\u001b[0m\u001b[0m\n\u001b[0m\u001b[0;32m   3025\u001b[0m             \u001b[1;32mif\u001b[0m \u001b[0mis_integer\u001b[0m\u001b[1;33m(\u001b[0m\u001b[0mindexer\u001b[0m\u001b[1;33m)\u001b[0m\u001b[1;33m:\u001b[0m\u001b[1;33m\u001b[0m\u001b[1;33m\u001b[0m\u001b[0m\n\u001b[0;32m   3026\u001b[0m                 \u001b[0mindexer\u001b[0m \u001b[1;33m=\u001b[0m \u001b[1;33m[\u001b[0m\u001b[0mindexer\u001b[0m\u001b[1;33m]\u001b[0m\u001b[1;33m\u001b[0m\u001b[1;33m\u001b[0m\u001b[0m\n",
      "\u001b[1;32m~\\Anaconda3\\lib\\site-packages\\pandas\\core\\indexes\\base.py\u001b[0m in \u001b[0;36mget_loc\u001b[1;34m(self, key, method, tolerance)\u001b[0m\n\u001b[0;32m   3080\u001b[0m                 \u001b[1;32mreturn\u001b[0m \u001b[0mself\u001b[0m\u001b[1;33m.\u001b[0m\u001b[0m_engine\u001b[0m\u001b[1;33m.\u001b[0m\u001b[0mget_loc\u001b[0m\u001b[1;33m(\u001b[0m\u001b[0mcasted_key\u001b[0m\u001b[1;33m)\u001b[0m\u001b[1;33m\u001b[0m\u001b[1;33m\u001b[0m\u001b[0m\n\u001b[0;32m   3081\u001b[0m             \u001b[1;32mexcept\u001b[0m \u001b[0mKeyError\u001b[0m \u001b[1;32mas\u001b[0m \u001b[0merr\u001b[0m\u001b[1;33m:\u001b[0m\u001b[1;33m\u001b[0m\u001b[1;33m\u001b[0m\u001b[0m\n\u001b[1;32m-> 3082\u001b[1;33m                 \u001b[1;32mraise\u001b[0m \u001b[0mKeyError\u001b[0m\u001b[1;33m(\u001b[0m\u001b[0mkey\u001b[0m\u001b[1;33m)\u001b[0m \u001b[1;32mfrom\u001b[0m \u001b[0merr\u001b[0m\u001b[1;33m\u001b[0m\u001b[1;33m\u001b[0m\u001b[0m\n\u001b[0m\u001b[0;32m   3083\u001b[0m \u001b[1;33m\u001b[0m\u001b[0m\n\u001b[0;32m   3084\u001b[0m         \u001b[1;32mif\u001b[0m \u001b[0mtolerance\u001b[0m \u001b[1;32mis\u001b[0m \u001b[1;32mnot\u001b[0m \u001b[1;32mNone\u001b[0m\u001b[1;33m:\u001b[0m\u001b[1;33m\u001b[0m\u001b[1;33m\u001b[0m\u001b[0m\n",
      "\u001b[1;31mKeyError\u001b[0m: 'index'"
     ]
    }
   ],
   "source": [
    "df[\"index\"].dt.day"
   ]
  },
  {
   "cell_type": "code",
   "execution_count": 85,
   "metadata": {},
   "outputs": [],
   "source": [
    "df['index']=df['index'].apply(str)\n",
    "df['k']=df['index'].apply(lambda x:x.split()[0])\n",
    "df['index']=df['k'].apply(lambda x:x.split('-')[-1])\n"
   ]
  },
  {
   "cell_type": "code",
   "execution_count": 83,
   "metadata": {},
   "outputs": [
    {
     "data": {
      "text/html": [
       "<div>\n",
       "<style scoped>\n",
       "    .dataframe tbody tr th:only-of-type {\n",
       "        vertical-align: middle;\n",
       "    }\n",
       "\n",
       "    .dataframe tbody tr th {\n",
       "        vertical-align: top;\n",
       "    }\n",
       "\n",
       "    .dataframe thead th {\n",
       "        text-align: right;\n",
       "    }\n",
       "</style>\n",
       "<table border=\"1\" class=\"dataframe\">\n",
       "  <thead>\n",
       "    <tr style=\"text-align: right;\">\n",
       "      <th></th>\n",
       "      <th>A</th>\n",
       "      <th>B</th>\n",
       "      <th>C</th>\n",
       "      <th>D</th>\n",
       "    </tr>\n",
       "  </thead>\n",
       "  <tbody>\n",
       "    <tr>\n",
       "      <th>2000-01-03</th>\n",
       "      <td>-0.648544</td>\n",
       "      <td>-0.174526</td>\n",
       "      <td>-2.086605</td>\n",
       "      <td>0.588211</td>\n",
       "    </tr>\n",
       "    <tr>\n",
       "      <th>2000-01-04</th>\n",
       "      <td>-0.073938</td>\n",
       "      <td>1.950227</td>\n",
       "      <td>1.757551</td>\n",
       "      <td>-0.810794</td>\n",
       "    </tr>\n",
       "    <tr>\n",
       "      <th>2000-01-05</th>\n",
       "      <td>-0.120952</td>\n",
       "      <td>0.798423</td>\n",
       "      <td>-0.693337</td>\n",
       "      <td>-0.514379</td>\n",
       "    </tr>\n",
       "    <tr>\n",
       "      <th>2000-01-06</th>\n",
       "      <td>-0.024297</td>\n",
       "      <td>-1.380297</td>\n",
       "      <td>0.953976</td>\n",
       "      <td>2.844237</td>\n",
       "    </tr>\n",
       "    <tr>\n",
       "      <th>2000-01-07</th>\n",
       "      <td>1.599194</td>\n",
       "      <td>0.555643</td>\n",
       "      <td>-1.055263</td>\n",
       "      <td>-0.080778</td>\n",
       "    </tr>\n",
       "  </tbody>\n",
       "</table>\n",
       "</div>"
      ],
      "text/plain": [
       "                   A         B         C         D\n",
       "2000-01-03 -0.648544 -0.174526 -2.086605  0.588211\n",
       "2000-01-04 -0.073938  1.950227  1.757551 -0.810794\n",
       "2000-01-05 -0.120952  0.798423 -0.693337 -0.514379\n",
       "2000-01-06 -0.024297 -1.380297  0.953976  2.844237\n",
       "2000-01-07  1.599194  0.555643 -1.055263 -0.080778"
      ]
     },
     "execution_count": 83,
     "metadata": {},
     "output_type": "execute_result"
    }
   ],
   "source": [
    "df.head()"
   ]
  },
  {
   "cell_type": "code",
   "execution_count": 86,
   "metadata": {},
   "outputs": [
    {
     "data": {
      "text/html": [
       "<div>\n",
       "<style scoped>\n",
       "    .dataframe tbody tr th:only-of-type {\n",
       "        vertical-align: middle;\n",
       "    }\n",
       "\n",
       "    .dataframe tbody tr th {\n",
       "        vertical-align: top;\n",
       "    }\n",
       "\n",
       "    .dataframe thead th {\n",
       "        text-align: right;\n",
       "    }\n",
       "</style>\n",
       "<table border=\"1\" class=\"dataframe\">\n",
       "  <thead>\n",
       "    <tr style=\"text-align: right;\">\n",
       "      <th></th>\n",
       "      <th>index</th>\n",
       "      <th>A</th>\n",
       "      <th>B</th>\n",
       "      <th>C</th>\n",
       "      <th>D</th>\n",
       "      <th>k</th>\n",
       "    </tr>\n",
       "  </thead>\n",
       "  <tbody>\n",
       "    <tr>\n",
       "      <th>0</th>\n",
       "      <td>03</td>\n",
       "      <td>-0.648544</td>\n",
       "      <td>-0.174526</td>\n",
       "      <td>-2.086605</td>\n",
       "      <td>0.588211</td>\n",
       "      <td>2000-01-03</td>\n",
       "    </tr>\n",
       "    <tr>\n",
       "      <th>1</th>\n",
       "      <td>04</td>\n",
       "      <td>-0.073938</td>\n",
       "      <td>1.950227</td>\n",
       "      <td>1.757551</td>\n",
       "      <td>-0.810794</td>\n",
       "      <td>2000-01-04</td>\n",
       "    </tr>\n",
       "    <tr>\n",
       "      <th>2</th>\n",
       "      <td>05</td>\n",
       "      <td>-0.120952</td>\n",
       "      <td>0.798423</td>\n",
       "      <td>-0.693337</td>\n",
       "      <td>-0.514379</td>\n",
       "      <td>2000-01-05</td>\n",
       "    </tr>\n",
       "    <tr>\n",
       "      <th>3</th>\n",
       "      <td>06</td>\n",
       "      <td>-0.024297</td>\n",
       "      <td>-1.380297</td>\n",
       "      <td>0.953976</td>\n",
       "      <td>2.844237</td>\n",
       "      <td>2000-01-06</td>\n",
       "    </tr>\n",
       "    <tr>\n",
       "      <th>4</th>\n",
       "      <td>07</td>\n",
       "      <td>1.599194</td>\n",
       "      <td>0.555643</td>\n",
       "      <td>-1.055263</td>\n",
       "      <td>-0.080778</td>\n",
       "      <td>2000-01-07</td>\n",
       "    </tr>\n",
       "  </tbody>\n",
       "</table>\n",
       "</div>"
      ],
      "text/plain": [
       "  index         A         B         C         D           k\n",
       "0    03 -0.648544 -0.174526 -2.086605  0.588211  2000-01-03\n",
       "1    04 -0.073938  1.950227  1.757551 -0.810794  2000-01-04\n",
       "2    05 -0.120952  0.798423 -0.693337 -0.514379  2000-01-05\n",
       "3    06 -0.024297 -1.380297  0.953976  2.844237  2000-01-06\n",
       "4    07  1.599194  0.555643 -1.055263 -0.080778  2000-01-07"
      ]
     },
     "execution_count": 86,
     "metadata": {},
     "output_type": "execute_result"
    }
   ],
   "source": [
    "df.head()"
   ]
  },
  {
   "cell_type": "code",
   "execution_count": null,
   "metadata": {},
   "outputs": [],
   "source": []
  }
 ],
 "metadata": {
  "kernelspec": {
   "display_name": "Python 3",
   "language": "python",
   "name": "python3"
  },
  "language_info": {
   "codemirror_mode": {
    "name": "ipython",
    "version": 3
   },
   "file_extension": ".py",
   "mimetype": "text/x-python",
   "name": "python",
   "nbconvert_exporter": "python",
   "pygments_lexer": "ipython3",
   "version": "3.7.4"
  }
 },
 "nbformat": 4,
 "nbformat_minor": 2
}
