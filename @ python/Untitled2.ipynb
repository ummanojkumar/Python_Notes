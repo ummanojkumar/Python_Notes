{
 "cells": [
  {
   "cell_type": "code",
   "execution_count": null,
   "metadata": {},
   "outputs": [],
   "source": [
    " x=6\n",
    "while x>0:\n",
    "    print(\"*\"*x)\n",
    "    x=x-1"
   ]
  },
  {
   "cell_type": "markdown",
   "metadata": {},
   "source": [
    "a=int(input())\n",
    "for x in range(a):\n",
    "  b,c=map(int,input().split())\n",
    "  d=list(map(int,input().split()))\n",
    "  print(d)"
   ]
  },
  {
   "cell_type": "code",
   "execution_count": null,
   "metadata": {},
   "outputs": [],
   "source": [
    "a=int(input())\n",
    "for x in range(a):\n",
    "  b,c=map(int,input().split())\n",
    "  d=list(map(int,input().split()))\n",
    "  sum=0\n",
    "  for x in d:\n",
    "    if x<0:\n",
    "        sum=sum+x\n",
    "print(sum)"
   ]
  },
  {
   "cell_type": "code",
   "execution_count": 4,
   "metadata": {},
   "outputs": [
    {
     "name": "stdout",
     "output_type": "stream",
     "text": [
      "2\n",
      "4 3\n",
      "-1 -2 3 4\n",
      "3\n",
      "4 3\n",
      "-2 -5 3 2\n",
      "7\n"
     ]
    }
   ],
   "source": [
    "a=int(input())\n",
    "for x in range(a):\n",
    "  b,c=map(int,input().split())\n",
    "  d=list(map(int,input().split()))\n",
    "  sum=0\n",
    "  for x in d:\n",
    "    if x<0:\n",
    "        sum=sum+x\n",
    "  print(-sum)"
   ]
  },
  {
   "cell_type": "code",
   "execution_count": null,
   "metadata": {},
   "outputs": [],
   "source": []
  }
 ],
 "metadata": {
  "kernelspec": {
   "display_name": "Python 3",
   "language": "python",
   "name": "python3"
  },
  "language_info": {
   "codemirror_mode": {
    "name": "ipython",
    "version": 3
   },
   "file_extension": ".py",
   "mimetype": "text/x-python",
   "name": "python",
   "nbconvert_exporter": "python",
   "pygments_lexer": "ipython3",
   "version": "3.7.4"
  }
 },
 "nbformat": 4,
 "nbformat_minor": 2
}
